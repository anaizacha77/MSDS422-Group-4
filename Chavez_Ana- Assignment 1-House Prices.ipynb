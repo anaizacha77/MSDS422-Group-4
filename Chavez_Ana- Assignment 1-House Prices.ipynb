{
 "cells": [
  {
   "cell_type": "markdown",
   "id": "d234bc25",
   "metadata": {},
   "source": [
    "# Module 1 Assignment 1: House Prices\n",
    "## MDSD 422 \n",
    "### Ana Chavez\n",
    "### *Note to Professor: for this week I am submitting this assignment individually "
   ]
  },
  {
   "cell_type": "code",
   "execution_count": 3,
   "id": "c37276af",
   "metadata": {},
   "outputs": [],
   "source": [
    "# for the remainder of this EDA I only downloaded the train.csv file from the Kaggle competition website\n",
    "\n",
    "\n",
    "# import libraries to be used\n",
    "import pandas as pd\n",
    "import statistics\n",
    "import numpy as np\n",
    "import re\n",
    "import seaborn as sns\n",
    "import matplotlib.pyplot as plt\n",
    "import plotly.express as px\n",
    "\n",
    "\n",
    "# set up notebook to display multiple output in one cell\n",
    "from IPython.core.interactiveshell import InteractiveShell\n",
    "InteractiveShell.ast_node_interactivity = \"all\""
   ]
  },
  {
   "cell_type": "code",
   "execution_count": 4,
   "id": "9d949173",
   "metadata": {},
   "outputs": [],
   "source": [
    "# import dataset\n",
    "df = pd.read_csv('train.csv',sep =\",\")"
   ]
  },
  {
   "cell_type": "code",
   "execution_count": 5,
   "id": "7a733f0d",
   "metadata": {},
   "outputs": [
    {
     "data": {
      "text/plain": [
       "(1460, 81)"
      ]
     },
     "execution_count": 5,
     "metadata": {},
     "output_type": "execute_result"
    },
    {
     "name": "stdout",
     "output_type": "stream",
     "text": [
      "<class 'pandas.core.frame.DataFrame'>\n",
      "RangeIndex: 1460 entries, 0 to 1459\n",
      "Data columns (total 81 columns):\n",
      " #   Column         Non-Null Count  Dtype  \n",
      "---  ------         --------------  -----  \n",
      " 0   Id             1460 non-null   int64  \n",
      " 1   MSSubClass     1460 non-null   int64  \n",
      " 2   MSZoning       1460 non-null   object \n",
      " 3   LotFrontage    1201 non-null   float64\n",
      " 4   LotArea        1460 non-null   int64  \n",
      " 5   Street         1460 non-null   object \n",
      " 6   Alley          91 non-null     object \n",
      " 7   LotShape       1460 non-null   object \n",
      " 8   LandContour    1460 non-null   object \n",
      " 9   Utilities      1460 non-null   object \n",
      " 10  LotConfig      1460 non-null   object \n",
      " 11  LandSlope      1460 non-null   object \n",
      " 12  Neighborhood   1460 non-null   object \n",
      " 13  Condition1     1460 non-null   object \n",
      " 14  Condition2     1460 non-null   object \n",
      " 15  BldgType       1460 non-null   object \n",
      " 16  HouseStyle     1460 non-null   object \n",
      " 17  OverallQual    1460 non-null   int64  \n",
      " 18  OverallCond    1460 non-null   int64  \n",
      " 19  YearBuilt      1460 non-null   int64  \n",
      " 20  YearRemodAdd   1460 non-null   int64  \n",
      " 21  RoofStyle      1460 non-null   object \n",
      " 22  RoofMatl       1460 non-null   object \n",
      " 23  Exterior1st    1460 non-null   object \n",
      " 24  Exterior2nd    1460 non-null   object \n",
      " 25  MasVnrType     1452 non-null   object \n",
      " 26  MasVnrArea     1452 non-null   float64\n",
      " 27  ExterQual      1460 non-null   object \n",
      " 28  ExterCond      1460 non-null   object \n",
      " 29  Foundation     1460 non-null   object \n",
      " 30  BsmtQual       1423 non-null   object \n",
      " 31  BsmtCond       1423 non-null   object \n",
      " 32  BsmtExposure   1422 non-null   object \n",
      " 33  BsmtFinType1   1423 non-null   object \n",
      " 34  BsmtFinSF1     1460 non-null   int64  \n",
      " 35  BsmtFinType2   1422 non-null   object \n",
      " 36  BsmtFinSF2     1460 non-null   int64  \n",
      " 37  BsmtUnfSF      1460 non-null   int64  \n",
      " 38  TotalBsmtSF    1460 non-null   int64  \n",
      " 39  Heating        1460 non-null   object \n",
      " 40  HeatingQC      1460 non-null   object \n",
      " 41  CentralAir     1460 non-null   object \n",
      " 42  Electrical     1459 non-null   object \n",
      " 43  1stFlrSF       1460 non-null   int64  \n",
      " 44  2ndFlrSF       1460 non-null   int64  \n",
      " 45  LowQualFinSF   1460 non-null   int64  \n",
      " 46  GrLivArea      1460 non-null   int64  \n",
      " 47  BsmtFullBath   1460 non-null   int64  \n",
      " 48  BsmtHalfBath   1460 non-null   int64  \n",
      " 49  FullBath       1460 non-null   int64  \n",
      " 50  HalfBath       1460 non-null   int64  \n",
      " 51  BedroomAbvGr   1460 non-null   int64  \n",
      " 52  KitchenAbvGr   1460 non-null   int64  \n",
      " 53  KitchenQual    1460 non-null   object \n",
      " 54  TotRmsAbvGrd   1460 non-null   int64  \n",
      " 55  Functional     1460 non-null   object \n",
      " 56  Fireplaces     1460 non-null   int64  \n",
      " 57  FireplaceQu    770 non-null    object \n",
      " 58  GarageType     1379 non-null   object \n",
      " 59  GarageYrBlt    1379 non-null   float64\n",
      " 60  GarageFinish   1379 non-null   object \n",
      " 61  GarageCars     1460 non-null   int64  \n",
      " 62  GarageArea     1460 non-null   int64  \n",
      " 63  GarageQual     1379 non-null   object \n",
      " 64  GarageCond     1379 non-null   object \n",
      " 65  PavedDrive     1460 non-null   object \n",
      " 66  WoodDeckSF     1460 non-null   int64  \n",
      " 67  OpenPorchSF    1460 non-null   int64  \n",
      " 68  EnclosedPorch  1460 non-null   int64  \n",
      " 69  3SsnPorch      1460 non-null   int64  \n",
      " 70  ScreenPorch    1460 non-null   int64  \n",
      " 71  PoolArea       1460 non-null   int64  \n",
      " 72  PoolQC         7 non-null      object \n",
      " 73  Fence          281 non-null    object \n",
      " 74  MiscFeature    54 non-null     object \n",
      " 75  MiscVal        1460 non-null   int64  \n",
      " 76  MoSold         1460 non-null   int64  \n",
      " 77  YrSold         1460 non-null   int64  \n",
      " 78  SaleType       1460 non-null   object \n",
      " 79  SaleCondition  1460 non-null   object \n",
      " 80  SalePrice      1460 non-null   int64  \n",
      "dtypes: float64(3), int64(35), object(43)\n",
      "memory usage: 924.0+ KB\n"
     ]
    }
   ],
   "source": [
    "# verify import was successful\n",
    "df.shape\n",
    "\n",
    "df.info()"
   ]
  },
  {
   "cell_type": "code",
   "execution_count": 6,
   "id": "4223602c",
   "metadata": {},
   "outputs": [
    {
     "name": "stdout",
     "output_type": "stream",
     "text": [
      "<class 'pandas.core.frame.DataFrame'>\n",
      "RangeIndex: 1460 entries, 0 to 1459\n",
      "Data columns (total 14 columns):\n",
      " #   Column        Non-Null Count  Dtype \n",
      "---  ------        --------------  ----- \n",
      " 0   SalePrice     1460 non-null   int64 \n",
      " 1   LotArea       1460 non-null   int64 \n",
      " 2   1stFlrSF      1460 non-null   int64 \n",
      " 3   2ndFlrSF      1460 non-null   int64 \n",
      " 4   TotalBsmtSF   1460 non-null   int64 \n",
      " 5   FullBath      1460 non-null   int64 \n",
      " 6   LandContour   1460 non-null   object\n",
      " 7   Neighborhood  1460 non-null   object\n",
      " 8   BldgType      1460 non-null   object\n",
      " 9   OverallQual   1460 non-null   int64 \n",
      " 10  OverallCond   1460 non-null   int64 \n",
      " 11  YearBuilt     1460 non-null   int64 \n",
      " 12  KitchenQual   1460 non-null   object\n",
      " 13  PoolQC        7 non-null      object\n",
      "dtypes: int64(9), object(5)\n",
      "memory usage: 159.8+ KB\n"
     ]
    }
   ],
   "source": [
    "# from the above I can see that there are 81 fields in this dataset, so I will only select those that \n",
    "# I am hypothesizing will have the greatest predictive power based on my knowledge of the housing market\n",
    "\n",
    "\n",
    "df2 = df[['SalePrice','LotArea','1stFlrSF','2ndFlrSF','TotalBsmtSF','FullBath','LandContour','Neighborhood','BldgType',\n",
    "                                'OverallQual','OverallCond','YearBuilt','KitchenQual','PoolQC']]\n",
    "df2.info()"
   ]
  },
  {
   "cell_type": "code",
   "execution_count": 7,
   "id": "e3a926f3",
   "metadata": {},
   "outputs": [
    {
     "data": {
      "text/html": [
       "<div>\n",
       "<style scoped>\n",
       "    .dataframe tbody tr th:only-of-type {\n",
       "        vertical-align: middle;\n",
       "    }\n",
       "\n",
       "    .dataframe tbody tr th {\n",
       "        vertical-align: top;\n",
       "    }\n",
       "\n",
       "    .dataframe thead th {\n",
       "        text-align: right;\n",
       "    }\n",
       "</style>\n",
       "<table border=\"1\" class=\"dataframe\">\n",
       "  <thead>\n",
       "    <tr style=\"text-align: right;\">\n",
       "      <th></th>\n",
       "      <th>SalePrice</th>\n",
       "      <th>LotArea</th>\n",
       "      <th>1stFlrSF</th>\n",
       "      <th>2ndFlrSF</th>\n",
       "      <th>TotalBsmtSF</th>\n",
       "    </tr>\n",
       "  </thead>\n",
       "  <tbody>\n",
       "    <tr>\n",
       "      <th>count</th>\n",
       "      <td>1460.000000</td>\n",
       "      <td>1460.000000</td>\n",
       "      <td>1460.000000</td>\n",
       "      <td>1460.000000</td>\n",
       "      <td>1460.000000</td>\n",
       "    </tr>\n",
       "    <tr>\n",
       "      <th>mean</th>\n",
       "      <td>180921.195890</td>\n",
       "      <td>10516.828082</td>\n",
       "      <td>1162.626712</td>\n",
       "      <td>346.992466</td>\n",
       "      <td>1057.429452</td>\n",
       "    </tr>\n",
       "    <tr>\n",
       "      <th>std</th>\n",
       "      <td>79442.502883</td>\n",
       "      <td>9981.264932</td>\n",
       "      <td>386.587738</td>\n",
       "      <td>436.528436</td>\n",
       "      <td>438.705324</td>\n",
       "    </tr>\n",
       "    <tr>\n",
       "      <th>min</th>\n",
       "      <td>34900.000000</td>\n",
       "      <td>1300.000000</td>\n",
       "      <td>334.000000</td>\n",
       "      <td>0.000000</td>\n",
       "      <td>0.000000</td>\n",
       "    </tr>\n",
       "    <tr>\n",
       "      <th>25%</th>\n",
       "      <td>129975.000000</td>\n",
       "      <td>7553.500000</td>\n",
       "      <td>882.000000</td>\n",
       "      <td>0.000000</td>\n",
       "      <td>795.750000</td>\n",
       "    </tr>\n",
       "    <tr>\n",
       "      <th>50%</th>\n",
       "      <td>163000.000000</td>\n",
       "      <td>9478.500000</td>\n",
       "      <td>1087.000000</td>\n",
       "      <td>0.000000</td>\n",
       "      <td>991.500000</td>\n",
       "    </tr>\n",
       "    <tr>\n",
       "      <th>75%</th>\n",
       "      <td>214000.000000</td>\n",
       "      <td>11601.500000</td>\n",
       "      <td>1391.250000</td>\n",
       "      <td>728.000000</td>\n",
       "      <td>1298.250000</td>\n",
       "    </tr>\n",
       "    <tr>\n",
       "      <th>max</th>\n",
       "      <td>755000.000000</td>\n",
       "      <td>215245.000000</td>\n",
       "      <td>4692.000000</td>\n",
       "      <td>2065.000000</td>\n",
       "      <td>6110.000000</td>\n",
       "    </tr>\n",
       "  </tbody>\n",
       "</table>\n",
       "</div>"
      ],
      "text/plain": [
       "           SalePrice        LotArea     1stFlrSF     2ndFlrSF  TotalBsmtSF\n",
       "count    1460.000000    1460.000000  1460.000000  1460.000000  1460.000000\n",
       "mean   180921.195890   10516.828082  1162.626712   346.992466  1057.429452\n",
       "std     79442.502883    9981.264932   386.587738   436.528436   438.705324\n",
       "min     34900.000000    1300.000000   334.000000     0.000000     0.000000\n",
       "25%    129975.000000    7553.500000   882.000000     0.000000   795.750000\n",
       "50%    163000.000000    9478.500000  1087.000000     0.000000   991.500000\n",
       "75%    214000.000000   11601.500000  1391.250000   728.000000  1298.250000\n",
       "max    755000.000000  215245.000000  4692.000000  2065.000000  6110.000000"
      ]
     },
     "execution_count": 7,
     "metadata": {},
     "output_type": "execute_result"
    }
   ],
   "source": [
    "# next I want to see the summary statistics of the numeric variables I chose\n",
    "\n",
    "columns_sum_stats = df2[['SalePrice','LotArea','1stFlrSF','2ndFlrSF','TotalBsmtSF']]\n",
    "\n",
    "columns_sum_stats.describe()"
   ]
  },
  {
   "cell_type": "code",
   "execution_count": 8,
   "id": "70a225be",
   "metadata": {},
   "outputs": [
    {
     "data": {
      "image/png": "[encoded data removed]",
      "text/plain": [
       "<Figure size 432x288 with 1 Axes>"
      ]
     },
     "metadata": {
      "needs_background": "light"
     },
     "output_type": "display_data"
    }
   ],
   "source": [
    "# to see this a little bit better I will visualize these in box plots\n",
    "\n",
    "numeric_variables = columns_sum_stats.boxplot()"
   ]
  },
  {
   "cell_type": "code",
   "execution_count": 9,
   "id": "7100049b",
   "metadata": {},
   "outputs": [
    {
     "data": {
      "text/plain": [
       "<AxesSubplot:>"
      ]
     },
     "execution_count": 9,
     "metadata": {},
     "output_type": "execute_result"
    },
    {
     "data": {
      "image/png": "[encoded data removed]",
      "text/plain": [
       "<Figure size 432x288 with 1 Axes>"
      ]
     },
     "metadata": {
      "needs_background": "light"
     },
     "output_type": "display_data"
    }
   ],
   "source": [
    "# the visualizations are not very clear since SalePrice and LotArea variables seems to have a much larger range than the other viariables\n",
    "# so I will seperate it out in its own plot\n",
    "\n",
    "saleprice_boxplot = df2.boxplot(column = 'SalePrice', widths = 0.5,patch_artist = True)\n",
    "saleprice_boxplot"
   ]
  },
  {
   "cell_type": "code",
   "execution_count": 10,
   "id": "17f2595d",
   "metadata": {},
   "outputs": [
    {
     "data": {
      "text/plain": [
       "<AxesSubplot:>"
      ]
     },
     "execution_count": 10,
     "metadata": {},
     "output_type": "execute_result"
    },
    {
     "data": {
      "image/png": "[encoded data removed]",
      "text/plain": [
       "<Figure size 432x288 with 1 Axes>"
      ]
     },
     "metadata": {
      "needs_background": "light"
     },
     "output_type": "display_data"
    }
   ],
   "source": [
    "lotsize_boxplot = df2.boxplot(column = 'LotArea', widths = 0.5,patch_artist = True)\n",
    "lotsize_boxplot"
   ]
  },
  {
   "cell_type": "code",
   "execution_count": 11,
   "id": "d182b29e",
   "metadata": {},
   "outputs": [
    {
     "data": {
      "image/png": "[encoded data removed]",
      "text/plain": [
       "<Figure size 432x288 with 1 Axes>"
      ]
     },
     "metadata": {
      "needs_background": "light"
     },
     "output_type": "display_data"
    }
   ],
   "source": [
    "num_variables = df2[['1stFlrSF','2ndFlrSF','TotalBsmtSF']]\n",
    "other_num_variables = num_variables.boxplot(widths = 0.5,patch_artist = True)"
   ]
  },
  {
   "cell_type": "markdown",
   "id": "31b63862",
   "metadata": {},
   "source": [
    "By looking at all the box plots we can see that the Sale price variable has a lot of outliers on the upper bound of the box and the same appleis for the LotArea variables as well (except for one observation). \n",
    "\n",
    "When it comes to looking at the distribution of the first and second floor size and total basement size they seem to have their distributions around the same range with the first floor size being slightly higher than the second floor size. But in general all 3 of these variables also have outliers on the upper bounds of their boxplots. "
   ]
  },
  {
   "cell_type": "code",
   "execution_count": 12,
   "id": "1cd07061",
   "metadata": {},
   "outputs": [
    {
     "data": {
      "text/plain": [
       "<AxesSubplot:>"
      ]
     },
     "execution_count": 12,
     "metadata": {},
     "output_type": "execute_result"
    },
    {
     "data": {
      "text/plain": [
       "Text(0.5, 1.0, 'SalePrice, LotArea and 1st/2nd/Basement Size Correlations')"
      ]
     },
     "execution_count": 12,
     "metadata": {},
     "output_type": "execute_result"
    },
    {
     "data": {
      "image/png": "[encoded data removed]",
      "text/plain": [
       "<Figure size 648x432 with 2 Axes>"
      ]
     },
     "metadata": {
      "needs_background": "light"
     },
     "output_type": "display_data"
    }
   ],
   "source": [
    "# next I want to see the correlation between each of these numberic variables \n",
    "\n",
    "corr_matrix = columns_sum_stats.corr()\n",
    "\n",
    "# set the figure size\n",
    "f, ax = plt.subplots(figsize=(9, 6))\n",
    "\n",
    "sns.heatmap(corr_matrix, vmax = .8, square = True, annot = True, cmap = \"YlGnBu\", linewidths=.5)\n",
    "plt.title('SalePrice, LotArea and 1st/2nd/Basement Size Correlations')"
   ]
  },
  {
   "cell_type": "markdown",
   "id": "c264b89e",
   "metadata": {},
   "source": [
    "By looking at the above we can see that the 2 variables that have the highest correlation values with regards to Saleprice are 1st Floor size and Total basement size. I was suprised to see that LotArea was not the highest correlated value with SalePrice, since you would expect that the bigger the house is the mroe expensive it will be."
   ]
  },
  {
   "cell_type": "markdown",
   "id": "900beb36",
   "metadata": {},
   "source": [
    "Since the variables 1st Floor size and Total basement size have the higest correlation to our target variable, I will compute the marginal distributions for each of these with regards to the SalePrice variable. \n",
    "\n",
    "For this I will create bins for each of these numeric variables first"
   ]
  },
  {
   "cell_type": "code",
   "execution_count": 13,
   "id": "b561b226",
   "metadata": {},
   "outputs": [
    {
     "data": {
      "text/plain": [
       "array([[<AxesSubplot:title={'center':'1stFlrSF'}>]], dtype=object)"
      ]
     },
     "execution_count": 13,
     "metadata": {},
     "output_type": "execute_result"
    },
    {
     "data": {
      "text/plain": [
       "count    1460.000000\n",
       "mean     1162.626712\n",
       "std       386.587738\n",
       "min       334.000000\n",
       "25%       882.000000\n",
       "50%      1087.000000\n",
       "75%      1391.250000\n",
       "max      4692.000000\n",
       "Name: 1stFlrSF, dtype: float64"
      ]
     },
     "execution_count": 13,
     "metadata": {},
     "output_type": "execute_result"
    },
    {
     "data": {
      "image/png": "[encoded data removed]",
      "text/plain": [
       "<Figure size 864x576 with 1 Axes>"
      ]
     },
     "metadata": {
      "needs_background": "light"
     },
     "output_type": "display_data"
    }
   ],
   "source": [
    "# create bins for 1stFlrSF variable\n",
    "# first I will see what bin categories would make sense by looking at the distribution in detail\n",
    "\n",
    "df2.hist('1stFlrSF', bins = 10, figsize=(12,8))\n",
    "\n",
    "df2['1stFlrSF'].describe()"
   ]
  },
  {
   "cell_type": "markdown",
   "id": "19cf571e",
   "metadata": {},
   "source": [
    "Based on the distribution I will bin this variable to have buckets per each 500 sq ft"
   ]
  },
  {
   "cell_type": "code",
   "execution_count": 14,
   "id": "f2d9dd03",
   "metadata": {
    "collapsed": true
   },
   "outputs": [
    {
     "name": "stderr",
     "output_type": "stream",
     "text": [
      "C:\\Users\\anari\\Documents\\Python-Anaconda\\lib\\site-packages\\pandas\\core\\indexing.py:1599: SettingWithCopyWarning: \n",
      "A value is trying to be set on a copy of a slice from a DataFrame.\n",
      "Try using .loc[row_indexer,col_indexer] = value instead\n",
      "\n",
      "See the caveats in the documentation: https://pandas.pydata.org/pandas-docs/stable/user_guide/indexing.html#returning-a-view-versus-a-copy\n",
      "  self.obj[key] = infer_fill_value(value)\n",
      "C:\\Users\\anari\\Documents\\Python-Anaconda\\lib\\site-packages\\pandas\\core\\indexing.py:1720: SettingWithCopyWarning: \n",
      "A value is trying to be set on a copy of a slice from a DataFrame.\n",
      "Try using .loc[row_indexer,col_indexer] = value instead\n",
      "\n",
      "See the caveats in the documentation: https://pandas.pydata.org/pandas-docs/stable/user_guide/indexing.html#returning-a-view-versus-a-copy\n",
      "  self._setitem_single_column(loc, value, pi)\n",
      "C:\\Users\\anari\\Documents\\Python-Anaconda\\lib\\site-packages\\pandas\\core\\indexing.py:1720: SettingWithCopyWarning: \n",
      "A value is trying to be set on a copy of a slice from a DataFrame.\n",
      "Try using .loc[row_indexer,col_indexer] = value instead\n",
      "\n",
      "See the caveats in the documentation: https://pandas.pydata.org/pandas-docs/stable/user_guide/indexing.html#returning-a-view-versus-a-copy\n",
      "  self._setitem_single_column(loc, value, pi)\n",
      "C:\\Users\\anari\\Documents\\Python-Anaconda\\lib\\site-packages\\pandas\\core\\indexing.py:1720: SettingWithCopyWarning: \n",
      "A value is trying to be set on a copy of a slice from a DataFrame.\n",
      "Try using .loc[row_indexer,col_indexer] = value instead\n",
      "\n",
      "See the caveats in the documentation: https://pandas.pydata.org/pandas-docs/stable/user_guide/indexing.html#returning-a-view-versus-a-copy\n",
      "  self._setitem_single_column(loc, value, pi)\n",
      "C:\\Users\\anari\\Documents\\Python-Anaconda\\lib\\site-packages\\pandas\\core\\indexing.py:1720: SettingWithCopyWarning: \n",
      "A value is trying to be set on a copy of a slice from a DataFrame.\n",
      "Try using .loc[row_indexer,col_indexer] = value instead\n",
      "\n",
      "See the caveats in the documentation: https://pandas.pydata.org/pandas-docs/stable/user_guide/indexing.html#returning-a-view-versus-a-copy\n",
      "  self._setitem_single_column(loc, value, pi)\n",
      "C:\\Users\\anari\\Documents\\Python-Anaconda\\lib\\site-packages\\pandas\\core\\indexing.py:1720: SettingWithCopyWarning: \n",
      "A value is trying to be set on a copy of a slice from a DataFrame.\n",
      "Try using .loc[row_indexer,col_indexer] = value instead\n",
      "\n",
      "See the caveats in the documentation: https://pandas.pydata.org/pandas-docs/stable/user_guide/indexing.html#returning-a-view-versus-a-copy\n",
      "  self._setitem_single_column(loc, value, pi)\n",
      "C:\\Users\\anari\\Documents\\Python-Anaconda\\lib\\site-packages\\pandas\\core\\indexing.py:1720: SettingWithCopyWarning: \n",
      "A value is trying to be set on a copy of a slice from a DataFrame.\n",
      "Try using .loc[row_indexer,col_indexer] = value instead\n",
      "\n",
      "See the caveats in the documentation: https://pandas.pydata.org/pandas-docs/stable/user_guide/indexing.html#returning-a-view-versus-a-copy\n",
      "  self._setitem_single_column(loc, value, pi)\n",
      "C:\\Users\\anari\\Documents\\Python-Anaconda\\lib\\site-packages\\pandas\\core\\indexing.py:1720: SettingWithCopyWarning: \n",
      "A value is trying to be set on a copy of a slice from a DataFrame.\n",
      "Try using .loc[row_indexer,col_indexer] = value instead\n",
      "\n",
      "See the caveats in the documentation: https://pandas.pydata.org/pandas-docs/stable/user_guide/indexing.html#returning-a-view-versus-a-copy\n",
      "  self._setitem_single_column(loc, value, pi)\n",
      "C:\\Users\\anari\\Documents\\Python-Anaconda\\lib\\site-packages\\pandas\\core\\indexing.py:1720: SettingWithCopyWarning: \n",
      "A value is trying to be set on a copy of a slice from a DataFrame.\n",
      "Try using .loc[row_indexer,col_indexer] = value instead\n",
      "\n",
      "See the caveats in the documentation: https://pandas.pydata.org/pandas-docs/stable/user_guide/indexing.html#returning-a-view-versus-a-copy\n",
      "  self._setitem_single_column(loc, value, pi)\n",
      "C:\\Users\\anari\\Documents\\Python-Anaconda\\lib\\site-packages\\pandas\\core\\indexing.py:1720: SettingWithCopyWarning: \n",
      "A value is trying to be set on a copy of a slice from a DataFrame.\n",
      "Try using .loc[row_indexer,col_indexer] = value instead\n",
      "\n",
      "See the caveats in the documentation: https://pandas.pydata.org/pandas-docs/stable/user_guide/indexing.html#returning-a-view-versus-a-copy\n",
      "  self._setitem_single_column(loc, value, pi)\n"
     ]
    }
   ],
   "source": [
    "# create another copy of original df\n",
    "df3 = df2\n",
    "\n",
    "df3.loc[df['1stFlrSF'].between(334,834, 'right'), 'First_Floor_Sq_FT_Range'] = '(334-834)'\n",
    "df3.loc[df['1stFlrSF'].between(835,1335 , 'both'), 'First_Floor_Sq_FT_Range'] = '(835-1335)'\n",
    "df3.loc[df['1stFlrSF'].between(1336,1836, 'both'), 'First_Floor_Sq_FT_Range'] = '(1336-1836)'\n",
    "df3.loc[df['1stFlrSF'].between(1837,2337, 'both'), 'First_Floor_Sq_FT_Range'] = '(1837-2337)'\n",
    "df3.loc[df['1stFlrSF'].between(2338,2838, 'both'), 'First_Floor_Sq_FT_Range'] = '(2338-2838)'\n",
    "df3.loc[df['1stFlrSF'].between(2839,3339, 'both'), 'First_Floor_Sq_FT_Range'] = '(2839-3339)'\n",
    "df3.loc[df['1stFlrSF'].between(3340,3840, 'both'), 'First_Floor_Sq_FT_Range'] = '(3340-3840)'\n",
    "df3.loc[df['1stFlrSF'].between(3841,4341, 'both'), 'First_Floor_Sq_FT_Range'] = '(3841-4341)'\n",
    "df3.loc[df['1stFlrSF'].between(4342,4692, 'left'), 'First_Floor_Sq_FT_Range'] = '(4342-4692)'"
   ]
  },
  {
   "cell_type": "code",
   "execution_count": 15,
   "id": "1f9ac0cb",
   "metadata": {},
   "outputs": [
    {
     "data": {
      "text/plain": [
       "(835-1335)     772\n",
       "(1336-1836)    349\n",
       "(334-834)      268\n",
       "(1837-2337)     59\n",
       "(2338-2838)      8\n",
       "(2839-3339)      3\n",
       "(4342-4692)      1\n",
       "Name: First_Floor_Sq_FT_Range, dtype: int64"
      ]
     },
     "execution_count": 15,
     "metadata": {},
     "output_type": "execute_result"
    }
   ],
   "source": [
    "# here we see the new column with the count of homes based on their 1st floor sq ft values\n",
    "df3['First_Floor_Sq_FT_Range'].value_counts()"
   ]
  },
  {
   "cell_type": "code",
   "execution_count": 16,
   "id": "1f2f772c",
   "metadata": {},
   "outputs": [
    {
     "data": {
      "text/plain": [
       "array([[<AxesSubplot:title={'center':'TotalBsmtSF'}>]], dtype=object)"
      ]
     },
     "execution_count": 16,
     "metadata": {},
     "output_type": "execute_result"
    },
    {
     "data": {
      "text/plain": [
       "count    1460.000000\n",
       "mean     1057.429452\n",
       "std       438.705324\n",
       "min         0.000000\n",
       "25%       795.750000\n",
       "50%       991.500000\n",
       "75%      1298.250000\n",
       "max      6110.000000\n",
       "Name: TotalBsmtSF, dtype: float64"
      ]
     },
     "execution_count": 16,
     "metadata": {},
     "output_type": "execute_result"
    },
    {
     "data": {
      "image/png": "[encoded data removed]",
      "text/plain": [
       "<Figure size 864x576 with 1 Axes>"
      ]
     },
     "metadata": {
      "needs_background": "light"
     },
     "output_type": "display_data"
    }
   ],
   "source": [
    "# I will do the same for the TotalBsmtSF field\n",
    "\n",
    "df3.hist('TotalBsmtSF', bins = 10, figsize=(12,8), color = 'red')\n",
    "\n",
    "df3['TotalBsmtSF'].describe()"
   ]
  },
  {
   "cell_type": "code",
   "execution_count": 17,
   "id": "da3f491c",
   "metadata": {
    "collapsed": true
   },
   "outputs": [
    {
     "name": "stderr",
     "output_type": "stream",
     "text": [
      "C:\\Users\\anari\\Documents\\Python-Anaconda\\lib\\site-packages\\pandas\\core\\indexing.py:1599: SettingWithCopyWarning: \n",
      "A value is trying to be set on a copy of a slice from a DataFrame.\n",
      "Try using .loc[row_indexer,col_indexer] = value instead\n",
      "\n",
      "See the caveats in the documentation: https://pandas.pydata.org/pandas-docs/stable/user_guide/indexing.html#returning-a-view-versus-a-copy\n",
      "  self.obj[key] = infer_fill_value(value)\n",
      "C:\\Users\\anari\\Documents\\Python-Anaconda\\lib\\site-packages\\pandas\\core\\indexing.py:1720: SettingWithCopyWarning: \n",
      "A value is trying to be set on a copy of a slice from a DataFrame.\n",
      "Try using .loc[row_indexer,col_indexer] = value instead\n",
      "\n",
      "See the caveats in the documentation: https://pandas.pydata.org/pandas-docs/stable/user_guide/indexing.html#returning-a-view-versus-a-copy\n",
      "  self._setitem_single_column(loc, value, pi)\n",
      "C:\\Users\\anari\\Documents\\Python-Anaconda\\lib\\site-packages\\pandas\\core\\indexing.py:1720: SettingWithCopyWarning: \n",
      "A value is trying to be set on a copy of a slice from a DataFrame.\n",
      "Try using .loc[row_indexer,col_indexer] = value instead\n",
      "\n",
      "See the caveats in the documentation: https://pandas.pydata.org/pandas-docs/stable/user_guide/indexing.html#returning-a-view-versus-a-copy\n",
      "  self._setitem_single_column(loc, value, pi)\n",
      "C:\\Users\\anari\\Documents\\Python-Anaconda\\lib\\site-packages\\pandas\\core\\indexing.py:1720: SettingWithCopyWarning: \n",
      "A value is trying to be set on a copy of a slice from a DataFrame.\n",
      "Try using .loc[row_indexer,col_indexer] = value instead\n",
      "\n",
      "See the caveats in the documentation: https://pandas.pydata.org/pandas-docs/stable/user_guide/indexing.html#returning-a-view-versus-a-copy\n",
      "  self._setitem_single_column(loc, value, pi)\n",
      "C:\\Users\\anari\\Documents\\Python-Anaconda\\lib\\site-packages\\pandas\\core\\indexing.py:1720: SettingWithCopyWarning: \n",
      "A value is trying to be set on a copy of a slice from a DataFrame.\n",
      "Try using .loc[row_indexer,col_indexer] = value instead\n",
      "\n",
      "See the caveats in the documentation: https://pandas.pydata.org/pandas-docs/stable/user_guide/indexing.html#returning-a-view-versus-a-copy\n",
      "  self._setitem_single_column(loc, value, pi)\n",
      "C:\\Users\\anari\\Documents\\Python-Anaconda\\lib\\site-packages\\pandas\\core\\indexing.py:1720: SettingWithCopyWarning: \n",
      "A value is trying to be set on a copy of a slice from a DataFrame.\n",
      "Try using .loc[row_indexer,col_indexer] = value instead\n",
      "\n",
      "See the caveats in the documentation: https://pandas.pydata.org/pandas-docs/stable/user_guide/indexing.html#returning-a-view-versus-a-copy\n",
      "  self._setitem_single_column(loc, value, pi)\n",
      "C:\\Users\\anari\\Documents\\Python-Anaconda\\lib\\site-packages\\pandas\\core\\indexing.py:1720: SettingWithCopyWarning: \n",
      "A value is trying to be set on a copy of a slice from a DataFrame.\n",
      "Try using .loc[row_indexer,col_indexer] = value instead\n",
      "\n",
      "See the caveats in the documentation: https://pandas.pydata.org/pandas-docs/stable/user_guide/indexing.html#returning-a-view-versus-a-copy\n",
      "  self._setitem_single_column(loc, value, pi)\n",
      "C:\\Users\\anari\\Documents\\Python-Anaconda\\lib\\site-packages\\pandas\\core\\indexing.py:1720: SettingWithCopyWarning: \n",
      "A value is trying to be set on a copy of a slice from a DataFrame.\n",
      "Try using .loc[row_indexer,col_indexer] = value instead\n",
      "\n",
      "See the caveats in the documentation: https://pandas.pydata.org/pandas-docs/stable/user_guide/indexing.html#returning-a-view-versus-a-copy\n",
      "  self._setitem_single_column(loc, value, pi)\n",
      "C:\\Users\\anari\\Documents\\Python-Anaconda\\lib\\site-packages\\pandas\\core\\indexing.py:1720: SettingWithCopyWarning: \n",
      "A value is trying to be set on a copy of a slice from a DataFrame.\n",
      "Try using .loc[row_indexer,col_indexer] = value instead\n",
      "\n",
      "See the caveats in the documentation: https://pandas.pydata.org/pandas-docs/stable/user_guide/indexing.html#returning-a-view-versus-a-copy\n",
      "  self._setitem_single_column(loc, value, pi)\n",
      "C:\\Users\\anari\\Documents\\Python-Anaconda\\lib\\site-packages\\pandas\\core\\indexing.py:1720: SettingWithCopyWarning: \n",
      "A value is trying to be set on a copy of a slice from a DataFrame.\n",
      "Try using .loc[row_indexer,col_indexer] = value instead\n",
      "\n",
      "See the caveats in the documentation: https://pandas.pydata.org/pandas-docs/stable/user_guide/indexing.html#returning-a-view-versus-a-copy\n",
      "  self._setitem_single_column(loc, value, pi)\n",
      "C:\\Users\\anari\\Documents\\Python-Anaconda\\lib\\site-packages\\pandas\\core\\indexing.py:1720: SettingWithCopyWarning: \n",
      "A value is trying to be set on a copy of a slice from a DataFrame.\n",
      "Try using .loc[row_indexer,col_indexer] = value instead\n",
      "\n",
      "See the caveats in the documentation: https://pandas.pydata.org/pandas-docs/stable/user_guide/indexing.html#returning-a-view-versus-a-copy\n",
      "  self._setitem_single_column(loc, value, pi)\n",
      "C:\\Users\\anari\\Documents\\Python-Anaconda\\lib\\site-packages\\pandas\\core\\indexing.py:1720: SettingWithCopyWarning: \n",
      "A value is trying to be set on a copy of a slice from a DataFrame.\n",
      "Try using .loc[row_indexer,col_indexer] = value instead\n",
      "\n",
      "See the caveats in the documentation: https://pandas.pydata.org/pandas-docs/stable/user_guide/indexing.html#returning-a-view-versus-a-copy\n",
      "  self._setitem_single_column(loc, value, pi)\n",
      "C:\\Users\\anari\\Documents\\Python-Anaconda\\lib\\site-packages\\pandas\\core\\indexing.py:1720: SettingWithCopyWarning: \n",
      "A value is trying to be set on a copy of a slice from a DataFrame.\n",
      "Try using .loc[row_indexer,col_indexer] = value instead\n",
      "\n",
      "See the caveats in the documentation: https://pandas.pydata.org/pandas-docs/stable/user_guide/indexing.html#returning-a-view-versus-a-copy\n",
      "  self._setitem_single_column(loc, value, pi)\n"
     ]
    }
   ],
   "source": [
    "# bin TotalBsmtSF\n",
    "\n",
    "df3.loc[df['TotalBsmtSF'].between(0,500, 'right'), 'Basement_Sq_FT_Range'] = '(0-500)'\n",
    "df3.loc[df['TotalBsmtSF'].between(501,1001 , 'both'), 'Basement_Sq_FT_Range'] = '(501-1001)'\n",
    "df3.loc[df['TotalBsmtSF'].between(1002,1502, 'both'), 'Basement_Sq_FT_Range'] = '(1002-1502)'\n",
    "df3.loc[df['TotalBsmtSF'].between(1503,2003, 'both'), 'Basement_Sq_FT_Range'] = '(1503-2003)'\n",
    "df3.loc[df['TotalBsmtSF'].between(2004,2504, 'both'), 'Basement_Sq_FT_Range'] = '(2004-2504)'\n",
    "df3.loc[df['TotalBsmtSF'].between(2505,3005, 'both'), 'Basement_Sq_FT_Range'] = '(2505-3005)'\n",
    "df3.loc[df['TotalBsmtSF'].between(3006,3506, 'both'), 'Basement_Sq_FT_Range'] = '(3006-3506)'\n",
    "df3.loc[df['TotalBsmtSF'].between(3507,4007, 'both'), 'Basement_Sq_FT_Range'] = '(3507-4007)'\n",
    "df3.loc[df['TotalBsmtSF'].between(4008,4508, 'both'), 'Basement_Sq_FT_Range'] = '(4008-4508)'\n",
    "df3.loc[df['TotalBsmtSF'].between(4509,5009, 'both'), 'Basement_Sq_FT_Range'] = '(4509-5009)'\n",
    "df3.loc[df['TotalBsmtSF'].between(5010,5510, 'both'), 'Basement_Sq_FT_Range'] = '(5010-5510)'\n",
    "df3.loc[df['TotalBsmtSF'].between(5511,6110, 'left'), 'Basement_Sq_FT_Range'] = '(5511-6110)'"
   ]
  },
  {
   "cell_type": "code",
   "execution_count": 18,
   "id": "98785558",
   "metadata": {},
   "outputs": [
    {
     "data": {
      "text/plain": [
       "(501-1001)     673\n",
       "(1002-1502)    516\n",
       "(1503-2003)    171\n",
       "(0-500)         71\n",
       "(2004-2504)     22\n",
       "(3006-3506)      4\n",
       "(2505-3005)      2\n",
       "(5511-6110)      1\n",
       "Name: Basement_Sq_FT_Range, dtype: int64"
      ]
     },
     "execution_count": 18,
     "metadata": {},
     "output_type": "execute_result"
    }
   ],
   "source": [
    "df3['Basement_Sq_FT_Range'].value_counts()"
   ]
  },
  {
   "cell_type": "code",
   "execution_count": 19,
   "id": "50d2bef0",
   "metadata": {},
   "outputs": [
    {
     "data": {
      "text/plain": [
       "array([[<AxesSubplot:title={'center':'SalePrice'}>]], dtype=object)"
      ]
     },
     "execution_count": 19,
     "metadata": {},
     "output_type": "execute_result"
    },
    {
     "data": {
      "text/plain": [
       "count      1460.000000\n",
       "mean     180921.195890\n",
       "std       79442.502883\n",
       "min       34900.000000\n",
       "25%      129975.000000\n",
       "50%      163000.000000\n",
       "75%      214000.000000\n",
       "max      755000.000000\n",
       "Name: SalePrice, dtype: float64"
      ]
     },
     "execution_count": 19,
     "metadata": {},
     "output_type": "execute_result"
    },
    {
     "data": {
      "image/png": "[encoded data removed]",
      "text/plain": [
       "<Figure size 864x576 with 1 Axes>"
      ]
     },
     "metadata": {
      "needs_background": "light"
     },
     "output_type": "display_data"
    }
   ],
   "source": [
    "# lastly I will bin the SalePrice variable the same way\n",
    "df3.hist('SalePrice', bins = 10, figsize=(12,8), color = 'green')\n",
    "\n",
    "df3['SalePrice'].describe()"
   ]
  },
  {
   "cell_type": "code",
   "execution_count": 20,
   "id": "65e6492d",
   "metadata": {
    "collapsed": true
   },
   "outputs": [
    {
     "name": "stderr",
     "output_type": "stream",
     "text": [
      "C:\\Users\\anari\\Documents\\Python-Anaconda\\lib\\site-packages\\pandas\\core\\indexing.py:1599: SettingWithCopyWarning: \n",
      "A value is trying to be set on a copy of a slice from a DataFrame.\n",
      "Try using .loc[row_indexer,col_indexer] = value instead\n",
      "\n",
      "See the caveats in the documentation: https://pandas.pydata.org/pandas-docs/stable/user_guide/indexing.html#returning-a-view-versus-a-copy\n",
      "  self.obj[key] = infer_fill_value(value)\n",
      "C:\\Users\\anari\\Documents\\Python-Anaconda\\lib\\site-packages\\pandas\\core\\indexing.py:1720: SettingWithCopyWarning: \n",
      "A value is trying to be set on a copy of a slice from a DataFrame.\n",
      "Try using .loc[row_indexer,col_indexer] = value instead\n",
      "\n",
      "See the caveats in the documentation: https://pandas.pydata.org/pandas-docs/stable/user_guide/indexing.html#returning-a-view-versus-a-copy\n",
      "  self._setitem_single_column(loc, value, pi)\n",
      "C:\\Users\\anari\\Documents\\Python-Anaconda\\lib\\site-packages\\pandas\\core\\indexing.py:1720: SettingWithCopyWarning: \n",
      "A value is trying to be set on a copy of a slice from a DataFrame.\n",
      "Try using .loc[row_indexer,col_indexer] = value instead\n",
      "\n",
      "See the caveats in the documentation: https://pandas.pydata.org/pandas-docs/stable/user_guide/indexing.html#returning-a-view-versus-a-copy\n",
      "  self._setitem_single_column(loc, value, pi)\n",
      "C:\\Users\\anari\\Documents\\Python-Anaconda\\lib\\site-packages\\pandas\\core\\indexing.py:1720: SettingWithCopyWarning: \n",
      "A value is trying to be set on a copy of a slice from a DataFrame.\n",
      "Try using .loc[row_indexer,col_indexer] = value instead\n",
      "\n",
      "See the caveats in the documentation: https://pandas.pydata.org/pandas-docs/stable/user_guide/indexing.html#returning-a-view-versus-a-copy\n",
      "  self._setitem_single_column(loc, value, pi)\n",
      "C:\\Users\\anari\\Documents\\Python-Anaconda\\lib\\site-packages\\pandas\\core\\indexing.py:1720: SettingWithCopyWarning: \n",
      "A value is trying to be set on a copy of a slice from a DataFrame.\n",
      "Try using .loc[row_indexer,col_indexer] = value instead\n",
      "\n",
      "See the caveats in the documentation: https://pandas.pydata.org/pandas-docs/stable/user_guide/indexing.html#returning-a-view-versus-a-copy\n",
      "  self._setitem_single_column(loc, value, pi)\n",
      "C:\\Users\\anari\\Documents\\Python-Anaconda\\lib\\site-packages\\pandas\\core\\indexing.py:1720: SettingWithCopyWarning: \n",
      "A value is trying to be set on a copy of a slice from a DataFrame.\n",
      "Try using .loc[row_indexer,col_indexer] = value instead\n",
      "\n",
      "See the caveats in the documentation: https://pandas.pydata.org/pandas-docs/stable/user_guide/indexing.html#returning-a-view-versus-a-copy\n",
      "  self._setitem_single_column(loc, value, pi)\n",
      "C:\\Users\\anari\\Documents\\Python-Anaconda\\lib\\site-packages\\pandas\\core\\indexing.py:1720: SettingWithCopyWarning: \n",
      "A value is trying to be set on a copy of a slice from a DataFrame.\n",
      "Try using .loc[row_indexer,col_indexer] = value instead\n",
      "\n",
      "See the caveats in the documentation: https://pandas.pydata.org/pandas-docs/stable/user_guide/indexing.html#returning-a-view-versus-a-copy\n",
      "  self._setitem_single_column(loc, value, pi)\n",
      "C:\\Users\\anari\\Documents\\Python-Anaconda\\lib\\site-packages\\pandas\\core\\indexing.py:1720: SettingWithCopyWarning: \n",
      "A value is trying to be set on a copy of a slice from a DataFrame.\n",
      "Try using .loc[row_indexer,col_indexer] = value instead\n",
      "\n",
      "See the caveats in the documentation: https://pandas.pydata.org/pandas-docs/stable/user_guide/indexing.html#returning-a-view-versus-a-copy\n",
      "  self._setitem_single_column(loc, value, pi)\n",
      "C:\\Users\\anari\\Documents\\Python-Anaconda\\lib\\site-packages\\pandas\\core\\indexing.py:1720: SettingWithCopyWarning: \n",
      "A value is trying to be set on a copy of a slice from a DataFrame.\n",
      "Try using .loc[row_indexer,col_indexer] = value instead\n",
      "\n",
      "See the caveats in the documentation: https://pandas.pydata.org/pandas-docs/stable/user_guide/indexing.html#returning-a-view-versus-a-copy\n",
      "  self._setitem_single_column(loc, value, pi)\n"
     ]
    }
   ],
   "source": [
    "# bin SalePrice\n",
    "\n",
    "df3.loc[df['SalePrice'].between(34900,124900, 'right'), 'Sales_Price_Range'] = '(34900-124900)'\n",
    "df3.loc[df['SalePrice'].between(124901, 214901, 'both'), 'Sales_Price_Range'] = '(124901-214901)'\n",
    "df3.loc[df['SalePrice'].between(214902,304902, 'both'), 'Sales_Price_Range'] = '(214902-304902)'\n",
    "df3.loc[df['SalePrice'].between(304903,394903, 'both'), 'Sales_Price_Range'] = '(304903-394903)'\n",
    "df3.loc[df['SalePrice'].between(394904,484904, 'both'), 'Sales_Price_Range'] = '(394904-484904)'\n",
    "df3.loc[df['SalePrice'].between(484905,574905, 'both'), 'Sales_Price_Range'] = '(484905-574905)'\n",
    "df3.loc[df['SalePrice'].between(574906,664906, 'both'), 'Sales_Price_Range'] = '(574906-664906)'\n",
    "df3.loc[df['SalePrice'].between(664907,755000, 'both'), 'Sales_Price_Range'] = '(664907-755000)'\n"
   ]
  },
  {
   "cell_type": "code",
   "execution_count": 21,
   "id": "5fd2c3d4",
   "metadata": {},
   "outputs": [
    {
     "data": {
      "text/plain": [
       "(124901-214901)    799\n",
       "(34900-124900)     301\n",
       "(214902-304902)    250\n",
       "(304903-394903)     80\n",
       "(394904-484904)     20\n",
       "(484905-574905)      5\n",
       "(574906-664906)      3\n",
       "(664907-755000)      2\n",
       "Name: Sales_Price_Range, dtype: int64"
      ]
     },
     "execution_count": 21,
     "metadata": {},
     "output_type": "execute_result"
    }
   ],
   "source": [
    "df3['Sales_Price_Range'].value_counts()"
   ]
  },
  {
   "cell_type": "code",
   "execution_count": 22,
   "id": "763dfb65",
   "metadata": {},
   "outputs": [],
   "source": [
    "marg_dist_price_basement = pd.crosstab(df3['Sales_Price_Range'],df3['Basement_Sq_FT_Range'], margins = True,margins_name=\"Total\")"
   ]
  },
  {
   "cell_type": "code",
   "execution_count": 23,
   "id": "53a74759",
   "metadata": {
    "scrolled": true
   },
   "outputs": [
    {
     "data": {
      "text/html": [
       "<div>\n",
       "<style scoped>\n",
       "    .dataframe tbody tr th:only-of-type {\n",
       "        vertical-align: middle;\n",
       "    }\n",
       "\n",
       "    .dataframe tbody tr th {\n",
       "        vertical-align: top;\n",
       "    }\n",
       "\n",
       "    .dataframe thead th {\n",
       "        text-align: right;\n",
       "    }\n",
       "</style>\n",
       "<table border=\"1\" class=\"dataframe\">\n",
       "  <thead>\n",
       "    <tr style=\"text-align: right;\">\n",
       "      <th>Basement_Sq_FT_Range</th>\n",
       "      <th>(0-500)</th>\n",
       "      <th>(1002-1502)</th>\n",
       "      <th>(1503-2003)</th>\n",
       "      <th>(2004-2504)</th>\n",
       "      <th>(2505-3005)</th>\n",
       "      <th>(3006-3506)</th>\n",
       "      <th>(501-1001)</th>\n",
       "      <th>(5511-6110)</th>\n",
       "      <th>Total</th>\n",
       "    </tr>\n",
       "    <tr>\n",
       "      <th>Sales_Price_Range</th>\n",
       "      <th></th>\n",
       "      <th></th>\n",
       "      <th></th>\n",
       "      <th></th>\n",
       "      <th></th>\n",
       "      <th></th>\n",
       "      <th></th>\n",
       "      <th></th>\n",
       "      <th></th>\n",
       "    </tr>\n",
       "  </thead>\n",
       "  <tbody>\n",
       "    <tr>\n",
       "      <th>(124901-214901)</th>\n",
       "      <td>19</td>\n",
       "      <td>330</td>\n",
       "      <td>43</td>\n",
       "      <td>2</td>\n",
       "      <td>0</td>\n",
       "      <td>1</td>\n",
       "      <td>403</td>\n",
       "      <td>1</td>\n",
       "      <td>799</td>\n",
       "    </tr>\n",
       "    <tr>\n",
       "      <th>(214902-304902)</th>\n",
       "      <td>0</td>\n",
       "      <td>115</td>\n",
       "      <td>73</td>\n",
       "      <td>5</td>\n",
       "      <td>1</td>\n",
       "      <td>1</td>\n",
       "      <td>55</td>\n",
       "      <td>0</td>\n",
       "      <td>250</td>\n",
       "    </tr>\n",
       "    <tr>\n",
       "      <th>(304903-394903)</th>\n",
       "      <td>0</td>\n",
       "      <td>31</td>\n",
       "      <td>39</td>\n",
       "      <td>6</td>\n",
       "      <td>0</td>\n",
       "      <td>0</td>\n",
       "      <td>4</td>\n",
       "      <td>0</td>\n",
       "      <td>80</td>\n",
       "    </tr>\n",
       "    <tr>\n",
       "      <th>(34900-124900)</th>\n",
       "      <td>52</td>\n",
       "      <td>35</td>\n",
       "      <td>3</td>\n",
       "      <td>0</td>\n",
       "      <td>0</td>\n",
       "      <td>0</td>\n",
       "      <td>211</td>\n",
       "      <td>0</td>\n",
       "      <td>301</td>\n",
       "    </tr>\n",
       "    <tr>\n",
       "      <th>(394904-484904)</th>\n",
       "      <td>0</td>\n",
       "      <td>5</td>\n",
       "      <td>8</td>\n",
       "      <td>5</td>\n",
       "      <td>1</td>\n",
       "      <td>1</td>\n",
       "      <td>0</td>\n",
       "      <td>0</td>\n",
       "      <td>20</td>\n",
       "    </tr>\n",
       "    <tr>\n",
       "      <th>(484905-574905)</th>\n",
       "      <td>0</td>\n",
       "      <td>0</td>\n",
       "      <td>3</td>\n",
       "      <td>1</td>\n",
       "      <td>0</td>\n",
       "      <td>1</td>\n",
       "      <td>0</td>\n",
       "      <td>0</td>\n",
       "      <td>5</td>\n",
       "    </tr>\n",
       "    <tr>\n",
       "      <th>(574906-664906)</th>\n",
       "      <td>0</td>\n",
       "      <td>0</td>\n",
       "      <td>2</td>\n",
       "      <td>1</td>\n",
       "      <td>0</td>\n",
       "      <td>0</td>\n",
       "      <td>0</td>\n",
       "      <td>0</td>\n",
       "      <td>3</td>\n",
       "    </tr>\n",
       "    <tr>\n",
       "      <th>(664907-755000)</th>\n",
       "      <td>0</td>\n",
       "      <td>0</td>\n",
       "      <td>0</td>\n",
       "      <td>2</td>\n",
       "      <td>0</td>\n",
       "      <td>0</td>\n",
       "      <td>0</td>\n",
       "      <td>0</td>\n",
       "      <td>2</td>\n",
       "    </tr>\n",
       "    <tr>\n",
       "      <th>Total</th>\n",
       "      <td>71</td>\n",
       "      <td>516</td>\n",
       "      <td>171</td>\n",
       "      <td>22</td>\n",
       "      <td>2</td>\n",
       "      <td>4</td>\n",
       "      <td>673</td>\n",
       "      <td>1</td>\n",
       "      <td>1460</td>\n",
       "    </tr>\n",
       "  </tbody>\n",
       "</table>\n",
       "</div>"
      ],
      "text/plain": [
       "Basement_Sq_FT_Range  (0-500)  (1002-1502)  (1503-2003)  (2004-2504)  \\\n",
       "Sales_Price_Range                                                      \n",
       "(124901-214901)            19          330           43            2   \n",
       "(214902-304902)             0          115           73            5   \n",
       "(304903-394903)             0           31           39            6   \n",
       "(34900-124900)             52           35            3            0   \n",
       "(394904-484904)             0            5            8            5   \n",
       "(484905-574905)             0            0            3            1   \n",
       "(574906-664906)             0            0            2            1   \n",
       "(664907-755000)             0            0            0            2   \n",
       "Total                      71          516          171           22   \n",
       "\n",
       "Basement_Sq_FT_Range  (2505-3005)  (3006-3506)  (501-1001)  (5511-6110)  Total  \n",
       "Sales_Price_Range                                                               \n",
       "(124901-214901)                 0            1         403            1    799  \n",
       "(214902-304902)                 1            1          55            0    250  \n",
       "(304903-394903)                 0            0           4            0     80  \n",
       "(34900-124900)                  0            0         211            0    301  \n",
       "(394904-484904)                 1            1           0            0     20  \n",
       "(484905-574905)                 0            1           0            0      5  \n",
       "(574906-664906)                 0            0           0            0      3  \n",
       "(664907-755000)                 0            0           0            0      2  \n",
       "Total                           2            4         673            1   1460  "
      ]
     },
     "execution_count": 23,
     "metadata": {},
     "output_type": "execute_result"
    }
   ],
   "source": [
    "marg_dist_price_basement"
   ]
  },
  {
   "cell_type": "code",
   "execution_count": 24,
   "id": "50e14a43",
   "metadata": {},
   "outputs": [
    {
     "data": {
      "text/plain": [
       "Sales_Price_Range\n",
       "(124901-214901)    0.547260\n",
       "(214902-304902)    0.171233\n",
       "(304903-394903)    0.054795\n",
       "(34900-124900)     0.206164\n",
       "(394904-484904)    0.013699\n",
       "(484905-574905)    0.003425\n",
       "(574906-664906)    0.002055\n",
       "(664907-755000)    0.001370\n",
       "Total              1.000000\n",
       "Name: Total, dtype: float64"
      ]
     },
     "execution_count": 24,
     "metadata": {},
     "output_type": "execute_result"
    }
   ],
   "source": [
    "# now I will find the marginal distribution of each price bin relative to the total\n",
    "\n",
    "marg_dist_price_basement['Total']/1460\n"
   ]
  },
  {
   "cell_type": "code",
   "execution_count": 25,
   "id": "590184ad",
   "metadata": {},
   "outputs": [
    {
     "data": {
      "text/plain": [
       "Basement_Sq_FT_Range\n",
       "(0-500)        0.048630\n",
       "(1002-1502)    0.353425\n",
       "(1503-2003)    0.117123\n",
       "(2004-2504)    0.015068\n",
       "(2505-3005)    0.001370\n",
       "(3006-3506)    0.002740\n",
       "(501-1001)     0.460959\n",
       "(5511-6110)    0.000685\n",
       "Total          1.000000\n",
       "Name: Total, dtype: float64"
      ]
     },
     "execution_count": 25,
     "metadata": {},
     "output_type": "execute_result"
    }
   ],
   "source": [
    "# now I will find the marginal distribution of each basement size bin relative to the total\n",
    "\n",
    "marg_dist_price_basement.iloc[-1]/1460"
   ]
  },
  {
   "cell_type": "markdown",
   "id": "59aab3d1",
   "metadata": {},
   "source": [
    "Now I will repeat the same process but compare First Floor size to SalePrice to get the marginal distribution"
   ]
  },
  {
   "cell_type": "code",
   "execution_count": 26,
   "id": "0de8f7fb",
   "metadata": {},
   "outputs": [],
   "source": [
    "marg_dist_price_firstFloorSize = pd.crosstab(df3['Sales_Price_Range'],df3['First_Floor_Sq_FT_Range'], margins = True,margins_name=\"Total\")"
   ]
  },
  {
   "cell_type": "code",
   "execution_count": 27,
   "id": "81f9f369",
   "metadata": {},
   "outputs": [
    {
     "data": {
      "text/html": [
       "<div>\n",
       "<style scoped>\n",
       "    .dataframe tbody tr th:only-of-type {\n",
       "        vertical-align: middle;\n",
       "    }\n",
       "\n",
       "    .dataframe tbody tr th {\n",
       "        vertical-align: top;\n",
       "    }\n",
       "\n",
       "    .dataframe thead th {\n",
       "        text-align: right;\n",
       "    }\n",
       "</style>\n",
       "<table border=\"1\" class=\"dataframe\">\n",
       "  <thead>\n",
       "    <tr style=\"text-align: right;\">\n",
       "      <th>First_Floor_Sq_FT_Range</th>\n",
       "      <th>(1336-1836)</th>\n",
       "      <th>(1837-2337)</th>\n",
       "      <th>(2338-2838)</th>\n",
       "      <th>(2839-3339)</th>\n",
       "      <th>(334-834)</th>\n",
       "      <th>(4342-4692)</th>\n",
       "      <th>(835-1335)</th>\n",
       "      <th>Total</th>\n",
       "    </tr>\n",
       "    <tr>\n",
       "      <th>Sales_Price_Range</th>\n",
       "      <th></th>\n",
       "      <th></th>\n",
       "      <th></th>\n",
       "      <th></th>\n",
       "      <th></th>\n",
       "      <th></th>\n",
       "      <th></th>\n",
       "      <th></th>\n",
       "    </tr>\n",
       "  </thead>\n",
       "  <tbody>\n",
       "    <tr>\n",
       "      <th>(124901-214901)</th>\n",
       "      <td>168</td>\n",
       "      <td>8</td>\n",
       "      <td>1</td>\n",
       "      <td>1</td>\n",
       "      <td>140</td>\n",
       "      <td>1</td>\n",
       "      <td>480</td>\n",
       "      <td>799</td>\n",
       "    </tr>\n",
       "    <tr>\n",
       "      <th>(214902-304902)</th>\n",
       "      <td>116</td>\n",
       "      <td>17</td>\n",
       "      <td>1</td>\n",
       "      <td>1</td>\n",
       "      <td>7</td>\n",
       "      <td>0</td>\n",
       "      <td>108</td>\n",
       "      <td>250</td>\n",
       "    </tr>\n",
       "    <tr>\n",
       "      <th>(304903-394903)</th>\n",
       "      <td>38</td>\n",
       "      <td>22</td>\n",
       "      <td>1</td>\n",
       "      <td>0</td>\n",
       "      <td>0</td>\n",
       "      <td>0</td>\n",
       "      <td>19</td>\n",
       "      <td>80</td>\n",
       "    </tr>\n",
       "    <tr>\n",
       "      <th>(34900-124900)</th>\n",
       "      <td>15</td>\n",
       "      <td>0</td>\n",
       "      <td>0</td>\n",
       "      <td>0</td>\n",
       "      <td>121</td>\n",
       "      <td>0</td>\n",
       "      <td>165</td>\n",
       "      <td>301</td>\n",
       "    </tr>\n",
       "    <tr>\n",
       "      <th>(394904-484904)</th>\n",
       "      <td>9</td>\n",
       "      <td>9</td>\n",
       "      <td>1</td>\n",
       "      <td>1</td>\n",
       "      <td>0</td>\n",
       "      <td>0</td>\n",
       "      <td>0</td>\n",
       "      <td>20</td>\n",
       "    </tr>\n",
       "    <tr>\n",
       "      <th>(484905-574905)</th>\n",
       "      <td>1</td>\n",
       "      <td>3</td>\n",
       "      <td>1</td>\n",
       "      <td>0</td>\n",
       "      <td>0</td>\n",
       "      <td>0</td>\n",
       "      <td>0</td>\n",
       "      <td>5</td>\n",
       "    </tr>\n",
       "    <tr>\n",
       "      <th>(574906-664906)</th>\n",
       "      <td>2</td>\n",
       "      <td>0</td>\n",
       "      <td>1</td>\n",
       "      <td>0</td>\n",
       "      <td>0</td>\n",
       "      <td>0</td>\n",
       "      <td>0</td>\n",
       "      <td>3</td>\n",
       "    </tr>\n",
       "    <tr>\n",
       "      <th>(664907-755000)</th>\n",
       "      <td>0</td>\n",
       "      <td>0</td>\n",
       "      <td>2</td>\n",
       "      <td>0</td>\n",
       "      <td>0</td>\n",
       "      <td>0</td>\n",
       "      <td>0</td>\n",
       "      <td>2</td>\n",
       "    </tr>\n",
       "    <tr>\n",
       "      <th>Total</th>\n",
       "      <td>349</td>\n",
       "      <td>59</td>\n",
       "      <td>8</td>\n",
       "      <td>3</td>\n",
       "      <td>268</td>\n",
       "      <td>1</td>\n",
       "      <td>772</td>\n",
       "      <td>1460</td>\n",
       "    </tr>\n",
       "  </tbody>\n",
       "</table>\n",
       "</div>"
      ],
      "text/plain": [
       "First_Floor_Sq_FT_Range  (1336-1836)  (1837-2337)  (2338-2838)  (2839-3339)  \\\n",
       "Sales_Price_Range                                                             \n",
       "(124901-214901)                  168            8            1            1   \n",
       "(214902-304902)                  116           17            1            1   \n",
       "(304903-394903)                   38           22            1            0   \n",
       "(34900-124900)                    15            0            0            0   \n",
       "(394904-484904)                    9            9            1            1   \n",
       "(484905-574905)                    1            3            1            0   \n",
       "(574906-664906)                    2            0            1            0   \n",
       "(664907-755000)                    0            0            2            0   \n",
       "Total                            349           59            8            3   \n",
       "\n",
       "First_Floor_Sq_FT_Range  (334-834)  (4342-4692)  (835-1335)  Total  \n",
       "Sales_Price_Range                                                   \n",
       "(124901-214901)                140            1         480    799  \n",
       "(214902-304902)                  7            0         108    250  \n",
       "(304903-394903)                  0            0          19     80  \n",
       "(34900-124900)                 121            0         165    301  \n",
       "(394904-484904)                  0            0           0     20  \n",
       "(484905-574905)                  0            0           0      5  \n",
       "(574906-664906)                  0            0           0      3  \n",
       "(664907-755000)                  0            0           0      2  \n",
       "Total                          268            1         772   1460  "
      ]
     },
     "execution_count": 27,
     "metadata": {},
     "output_type": "execute_result"
    }
   ],
   "source": [
    "marg_dist_price_firstFloorSize"
   ]
  },
  {
   "cell_type": "code",
   "execution_count": 28,
   "id": "a30525f1",
   "metadata": {},
   "outputs": [
    {
     "data": {
      "text/plain": [
       "First_Floor_Sq_FT_Range\n",
       "(1336-1836)    0.239041\n",
       "(1837-2337)    0.040411\n",
       "(2338-2838)    0.005479\n",
       "(2839-3339)    0.002055\n",
       "(334-834)      0.183562\n",
       "(4342-4692)    0.000685\n",
       "(835-1335)     0.528767\n",
       "Total          1.000000\n",
       "Name: Total, dtype: float64"
      ]
     },
     "execution_count": 28,
     "metadata": {},
     "output_type": "execute_result"
    }
   ],
   "source": [
    "# now I will find the marginal distribution of each first floor size bin relative to the total\n",
    "\n",
    "marg_dist_price_firstFloorSize.iloc[-1]/1460"
   ]
  },
  {
   "cell_type": "markdown",
   "id": "1a30b0ad",
   "metadata": {},
   "source": [
    "Up to this point I have seen that for the numeric variables I chose in my subset, first floor size and basement size have a strong correlation to SalesPrice. \n",
    "\n",
    "For the first floor size variable 52% percent of our observations have a first floor size of (835-1335) and out of those ~52% \n",
    ", 62% of those observations have a price range of (124901-214901). \n",
    "\n",
    "As to the basement size variable aroundn 46% of our observations have a basement size of (501-1001) and out of those 46%, 59% have a price range of (124901-214901). \n",
    "\n",
    "Which is interesting to see that for both of these variables the majority of the homes in this data have that same price range."
   ]
  },
  {
   "cell_type": "markdown",
   "id": "f17dbdd7",
   "metadata": {},
   "source": [
    "Next I want to see how the categorical variables correlate to the Sale price variable by once again creating a correlation heatmap table"
   ]
  },
  {
   "cell_type": "code",
   "execution_count": 29,
   "id": "82324d7f",
   "metadata": {},
   "outputs": [
    {
     "data": {
      "text/plain": [
       "<AxesSubplot:>"
      ]
     },
     "execution_count": 29,
     "metadata": {},
     "output_type": "execute_result"
    },
    {
     "data": {
      "text/plain": [
       "Text(0.5, 1.0, 'SalePrice, and other Categorical Variables Correlations')"
      ]
     },
     "execution_count": 29,
     "metadata": {},
     "output_type": "execute_result"
    },
    {
     "data": {
      "image/png": "[encoded data removed]",
      "text/plain": [
       "<Figure size 648x432 with 2 Axes>"
      ]
     },
     "metadata": {
      "needs_background": "light"
     },
     "output_type": "display_data"
    }
   ],
   "source": [
    "categorical_columns = df2[['SalePrice','FullBath','LandContour','Neighborhood','BldgType',\n",
    "                                'OverallQual','OverallCond','YearBuilt','KitchenQual','PoolQC']]\n",
    "\n",
    "corr_matrix2 = categorical_columns.corr()\n",
    "\n",
    "# set the figure size\n",
    "f, ax = plt.subplots(figsize=(9, 6))\n",
    "\n",
    "sns.heatmap(corr_matrix2, vmax = .8, square = True, annot = True, cmap = \"coolwarm\", linewidths=.5)\n",
    "plt.title('SalePrice, and other Categorical Variables Correlations')"
   ]
  },
  {
   "cell_type": "markdown",
   "id": "0393b9a7",
   "metadata": {},
   "source": [
    "By looking at the heatmap above I can see that the Overall quality variable has a very strong correlation to sales price. So I will I wil compute the marginal distribution for it with regards to Sales Price as well."
   ]
  },
  {
   "cell_type": "code",
   "execution_count": 30,
   "id": "2910cc8c",
   "metadata": {},
   "outputs": [],
   "source": [
    "# Overall Quality marginal distribution\n",
    "marg_dist_price_overallQual = pd.crosstab(df3['Sales_Price_Range'],df3['OverallQual'], margins = True,margins_name=\"Total\")"
   ]
  },
  {
   "cell_type": "code",
   "execution_count": 31,
   "id": "eba07eb3",
   "metadata": {},
   "outputs": [
    {
     "data": {
      "text/html": [
       "<div>\n",
       "<style scoped>\n",
       "    .dataframe tbody tr th:only-of-type {\n",
       "        vertical-align: middle;\n",
       "    }\n",
       "\n",
       "    .dataframe tbody tr th {\n",
       "        vertical-align: top;\n",
       "    }\n",
       "\n",
       "    .dataframe thead th {\n",
       "        text-align: right;\n",
       "    }\n",
       "</style>\n",
       "<table border=\"1\" class=\"dataframe\">\n",
       "  <thead>\n",
       "    <tr style=\"text-align: right;\">\n",
       "      <th>OverallQual</th>\n",
       "      <th>1</th>\n",
       "      <th>2</th>\n",
       "      <th>3</th>\n",
       "      <th>4</th>\n",
       "      <th>5</th>\n",
       "      <th>6</th>\n",
       "      <th>7</th>\n",
       "      <th>8</th>\n",
       "      <th>9</th>\n",
       "      <th>10</th>\n",
       "      <th>Total</th>\n",
       "    </tr>\n",
       "    <tr>\n",
       "      <th>Sales_Price_Range</th>\n",
       "      <th></th>\n",
       "      <th></th>\n",
       "      <th></th>\n",
       "      <th></th>\n",
       "      <th></th>\n",
       "      <th></th>\n",
       "      <th></th>\n",
       "      <th></th>\n",
       "      <th></th>\n",
       "      <th></th>\n",
       "      <th></th>\n",
       "    </tr>\n",
       "  </thead>\n",
       "  <tbody>\n",
       "    <tr>\n",
       "      <th>(124901-214901)</th>\n",
       "      <td>0</td>\n",
       "      <td>0</td>\n",
       "      <td>2</td>\n",
       "      <td>29</td>\n",
       "      <td>257</td>\n",
       "      <td>292</td>\n",
       "      <td>194</td>\n",
       "      <td>23</td>\n",
       "      <td>0</td>\n",
       "      <td>2</td>\n",
       "      <td>799</td>\n",
       "    </tr>\n",
       "    <tr>\n",
       "      <th>(214902-304902)</th>\n",
       "      <td>0</td>\n",
       "      <td>0</td>\n",
       "      <td>0</td>\n",
       "      <td>1</td>\n",
       "      <td>5</td>\n",
       "      <td>29</td>\n",
       "      <td>111</td>\n",
       "      <td>99</td>\n",
       "      <td>5</td>\n",
       "      <td>0</td>\n",
       "      <td>250</td>\n",
       "    </tr>\n",
       "    <tr>\n",
       "      <th>(304903-394903)</th>\n",
       "      <td>0</td>\n",
       "      <td>0</td>\n",
       "      <td>0</td>\n",
       "      <td>0</td>\n",
       "      <td>0</td>\n",
       "      <td>0</td>\n",
       "      <td>11</td>\n",
       "      <td>36</td>\n",
       "      <td>28</td>\n",
       "      <td>5</td>\n",
       "      <td>80</td>\n",
       "    </tr>\n",
       "    <tr>\n",
       "      <th>(34900-124900)</th>\n",
       "      <td>2</td>\n",
       "      <td>3</td>\n",
       "      <td>18</td>\n",
       "      <td>86</td>\n",
       "      <td>135</td>\n",
       "      <td>53</td>\n",
       "      <td>3</td>\n",
       "      <td>1</td>\n",
       "      <td>0</td>\n",
       "      <td>0</td>\n",
       "      <td>301</td>\n",
       "    </tr>\n",
       "    <tr>\n",
       "      <th>(394904-484904)</th>\n",
       "      <td>0</td>\n",
       "      <td>0</td>\n",
       "      <td>0</td>\n",
       "      <td>0</td>\n",
       "      <td>0</td>\n",
       "      <td>0</td>\n",
       "      <td>0</td>\n",
       "      <td>8</td>\n",
       "      <td>5</td>\n",
       "      <td>7</td>\n",
       "      <td>20</td>\n",
       "    </tr>\n",
       "    <tr>\n",
       "      <th>(484905-574905)</th>\n",
       "      <td>0</td>\n",
       "      <td>0</td>\n",
       "      <td>0</td>\n",
       "      <td>0</td>\n",
       "      <td>0</td>\n",
       "      <td>0</td>\n",
       "      <td>0</td>\n",
       "      <td>1</td>\n",
       "      <td>3</td>\n",
       "      <td>1</td>\n",
       "      <td>5</td>\n",
       "    </tr>\n",
       "    <tr>\n",
       "      <th>(574906-664906)</th>\n",
       "      <td>0</td>\n",
       "      <td>0</td>\n",
       "      <td>0</td>\n",
       "      <td>0</td>\n",
       "      <td>0</td>\n",
       "      <td>0</td>\n",
       "      <td>0</td>\n",
       "      <td>0</td>\n",
       "      <td>2</td>\n",
       "      <td>1</td>\n",
       "      <td>3</td>\n",
       "    </tr>\n",
       "    <tr>\n",
       "      <th>(664907-755000)</th>\n",
       "      <td>0</td>\n",
       "      <td>0</td>\n",
       "      <td>0</td>\n",
       "      <td>0</td>\n",
       "      <td>0</td>\n",
       "      <td>0</td>\n",
       "      <td>0</td>\n",
       "      <td>0</td>\n",
       "      <td>0</td>\n",
       "      <td>2</td>\n",
       "      <td>2</td>\n",
       "    </tr>\n",
       "    <tr>\n",
       "      <th>Total</th>\n",
       "      <td>2</td>\n",
       "      <td>3</td>\n",
       "      <td>20</td>\n",
       "      <td>116</td>\n",
       "      <td>397</td>\n",
       "      <td>374</td>\n",
       "      <td>319</td>\n",
       "      <td>168</td>\n",
       "      <td>43</td>\n",
       "      <td>18</td>\n",
       "      <td>1460</td>\n",
       "    </tr>\n",
       "  </tbody>\n",
       "</table>\n",
       "</div>"
      ],
      "text/plain": [
       "OverallQual        1  2   3    4    5    6    7    8   9  10  Total\n",
       "Sales_Price_Range                                                  \n",
       "(124901-214901)    0  0   2   29  257  292  194   23   0   2    799\n",
       "(214902-304902)    0  0   0    1    5   29  111   99   5   0    250\n",
       "(304903-394903)    0  0   0    0    0    0   11   36  28   5     80\n",
       "(34900-124900)     2  3  18   86  135   53    3    1   0   0    301\n",
       "(394904-484904)    0  0   0    0    0    0    0    8   5   7     20\n",
       "(484905-574905)    0  0   0    0    0    0    0    1   3   1      5\n",
       "(574906-664906)    0  0   0    0    0    0    0    0   2   1      3\n",
       "(664907-755000)    0  0   0    0    0    0    0    0   0   2      2\n",
       "Total              2  3  20  116  397  374  319  168  43  18   1460"
      ]
     },
     "execution_count": 31,
     "metadata": {},
     "output_type": "execute_result"
    }
   ],
   "source": [
    "marg_dist_price_overallQual"
   ]
  },
  {
   "cell_type": "code",
   "execution_count": 32,
   "id": "0daa12bc",
   "metadata": {},
   "outputs": [
    {
     "data": {
      "text/plain": [
       "OverallQual\n",
       "1        0.001370\n",
       "2        0.002055\n",
       "3        0.013699\n",
       "4        0.079452\n",
       "5        0.271918\n",
       "6        0.256164\n",
       "7        0.218493\n",
       "8        0.115068\n",
       "9        0.029452\n",
       "10       0.012329\n",
       "Total    1.000000\n",
       "Name: Total, dtype: float64"
      ]
     },
     "execution_count": 32,
     "metadata": {},
     "output_type": "execute_result"
    }
   ],
   "source": [
    "# now I will find the marginal distribution of each overall quality rating relative to the total\n",
    "\n",
    "marg_dist_price_overallQual.iloc[-1]/1460"
   ]
  },
  {
   "cell_type": "markdown",
   "id": "f0aa35f3",
   "metadata": {},
   "source": [
    "By looking at the above we can see that most homes in this data have an overall quality rating of either 5 or 6 and the vast majority of these homes with these rating have a price range of (124901-214901), same as the other numeric variables I explored above. So it could be said at this point that msot homes in our data will be at (124901-214901) price range if they have an overall quality score of 5 or 6, have a first floor size of (835-1335) and a basement size of (501-1001)."
   ]
  },
  {
   "cell_type": "code",
   "execution_count": 33,
   "id": "eef1ca4d",
   "metadata": {},
   "outputs": [],
   "source": [
    "# Full bath marginal distribution\n",
    "marg_dist_price_fullBath = pd.crosstab(df3['Sales_Price_Range'],df3['FullBath'], margins = True,margins_name=\"Total\")"
   ]
  },
  {
   "cell_type": "code",
   "execution_count": 34,
   "id": "e2ec8ac7",
   "metadata": {
    "scrolled": true
   },
   "outputs": [
    {
     "data": {
      "text/plain": [
       "FullBath\n",
       "0        0.006164\n",
       "1        0.445205\n",
       "2        0.526027\n",
       "3        0.022603\n",
       "Total    1.000000\n",
       "Name: Total, dtype: float64"
      ]
     },
     "execution_count": 34,
     "metadata": {},
     "output_type": "execute_result"
    }
   ],
   "source": [
    "marg_dist_price_fullBath.iloc[-1]/1460"
   ]
  },
  {
   "cell_type": "markdown",
   "id": "6b160551",
   "metadata": {},
   "source": [
    "Summarizing the correlations of all the variables in my subset"
   ]
  },
  {
   "cell_type": "code",
   "execution_count": 36,
   "id": "c06084c8",
   "metadata": {
    "scrolled": false
   },
   "outputs": [
    {
     "data": {
      "text/plain": [
       "<seaborn.axisgrid.PairGrid at 0x22b71474eb0>"
      ]
     },
     "execution_count": 36,
     "metadata": {},
     "output_type": "execute_result"
    },
    {
     "data": {
      "image/png": "[encoded data removed]",
      "text/plain": [
       "<Figure size 900x900 with 30 Axes>"
      ]
     },
     "metadata": {
      "needs_background": "light"
     },
     "output_type": "display_data"
    }
   ],
   "source": [
    "strong_corr_variables = df2[['SalePrice','OverallQual','FullBath','1stFlrSF','TotalBsmtSF']]\n",
    "sns.pairplot(strong_corr_variables)"
   ]
  },
  {
   "cell_type": "markdown",
   "id": "bf3087bc",
   "metadata": {},
   "source": [
    "By comparing all these 3 variables to the Sale Price variable side by side we can see that they all have a somewhat strong positive correlation and would therefore make strong predictors to determine price in a regression model. "
   ]
  },
  {
   "cell_type": "code",
   "execution_count": 298,
   "id": "c98081aa",
   "metadata": {},
   "outputs": [
    {
     "data": {
      "text/plain": [
       "(1460, 17)"
      ]
     },
     "execution_count": 298,
     "metadata": {},
     "output_type": "execute_result"
    }
   ],
   "source": [
    "df3.shape"
   ]
  },
  {
   "cell_type": "code",
   "execution_count": 299,
   "id": "3aecde23",
   "metadata": {},
   "outputs": [
    {
     "data": {
      "text/plain": [
       "SalePrice                     0\n",
       "LotArea                       0\n",
       "1stFlrSF                      0\n",
       "2ndFlrSF                      0\n",
       "TotalBsmtSF                   0\n",
       "FullBath                      0\n",
       "LandContour                   0\n",
       "Neighborhood                  0\n",
       "BldgType                      0\n",
       "OverallQual                   0\n",
       "OverallCond                   0\n",
       "YearBuilt                     0\n",
       "KitchenQual                   0\n",
       "PoolQC                     1453\n",
       "First_Floor_Sq_FT_Range       0\n",
       "Basement_Sq_FT_Range          0\n",
       "Sales_Price_Range             0\n",
       "dtype: int64"
      ]
     },
     "execution_count": 299,
     "metadata": {},
     "output_type": "execute_result"
    }
   ],
   "source": [
    "# check for null values in any of the columns of interest\n",
    "df3.isnull().sum()"
   ]
  },
  {
   "cell_type": "code",
   "execution_count": 300,
   "id": "238d2175",
   "metadata": {},
   "outputs": [
    {
     "data": {
      "text/plain": [
       "(1460, 17)"
      ]
     },
     "execution_count": 300,
     "metadata": {},
     "output_type": "execute_result"
    },
    {
     "data": {
      "text/html": [
       "<div>\n",
       "<style scoped>\n",
       "    .dataframe tbody tr th:only-of-type {\n",
       "        vertical-align: middle;\n",
       "    }\n",
       "\n",
       "    .dataframe tbody tr th {\n",
       "        vertical-align: top;\n",
       "    }\n",
       "\n",
       "    .dataframe thead th {\n",
       "        text-align: right;\n",
       "    }\n",
       "</style>\n",
       "<table border=\"1\" class=\"dataframe\">\n",
       "  <thead>\n",
       "    <tr style=\"text-align: right;\">\n",
       "      <th></th>\n",
       "      <th>SalePrice</th>\n",
       "      <th>LotArea</th>\n",
       "      <th>1stFlrSF</th>\n",
       "      <th>2ndFlrSF</th>\n",
       "      <th>TotalBsmtSF</th>\n",
       "      <th>FullBath</th>\n",
       "      <th>LandContour</th>\n",
       "      <th>Neighborhood</th>\n",
       "      <th>BldgType</th>\n",
       "      <th>OverallQual</th>\n",
       "      <th>OverallCond</th>\n",
       "      <th>YearBuilt</th>\n",
       "      <th>KitchenQual</th>\n",
       "      <th>First_Floor_Sq_FT_Range</th>\n",
       "      <th>Basement_Sq_FT_Range</th>\n",
       "      <th>Sales_Price_Range</th>\n",
       "    </tr>\n",
       "  </thead>\n",
       "  <tbody>\n",
       "    <tr>\n",
       "      <th>0</th>\n",
       "      <td>208500</td>\n",
       "      <td>8450</td>\n",
       "      <td>856</td>\n",
       "      <td>854</td>\n",
       "      <td>856</td>\n",
       "      <td>2</td>\n",
       "      <td>Lvl</td>\n",
       "      <td>CollgCr</td>\n",
       "      <td>1Fam</td>\n",
       "      <td>7</td>\n",
       "      <td>5</td>\n",
       "      <td>2003</td>\n",
       "      <td>Gd</td>\n",
       "      <td>(835-1335)</td>\n",
       "      <td>(501-1001)</td>\n",
       "      <td>(124901-214901)</td>\n",
       "    </tr>\n",
       "    <tr>\n",
       "      <th>1</th>\n",
       "      <td>181500</td>\n",
       "      <td>9600</td>\n",
       "      <td>1262</td>\n",
       "      <td>0</td>\n",
       "      <td>1262</td>\n",
       "      <td>2</td>\n",
       "      <td>Lvl</td>\n",
       "      <td>Veenker</td>\n",
       "      <td>1Fam</td>\n",
       "      <td>6</td>\n",
       "      <td>8</td>\n",
       "      <td>1976</td>\n",
       "      <td>TA</td>\n",
       "      <td>(835-1335)</td>\n",
       "      <td>(1002-1502)</td>\n",
       "      <td>(124901-214901)</td>\n",
       "    </tr>\n",
       "    <tr>\n",
       "      <th>2</th>\n",
       "      <td>223500</td>\n",
       "      <td>11250</td>\n",
       "      <td>920</td>\n",
       "      <td>866</td>\n",
       "      <td>920</td>\n",
       "      <td>2</td>\n",
       "      <td>Lvl</td>\n",
       "      <td>CollgCr</td>\n",
       "      <td>1Fam</td>\n",
       "      <td>7</td>\n",
       "      <td>5</td>\n",
       "      <td>2001</td>\n",
       "      <td>Gd</td>\n",
       "      <td>(835-1335)</td>\n",
       "      <td>(501-1001)</td>\n",
       "      <td>(214902-304902)</td>\n",
       "    </tr>\n",
       "    <tr>\n",
       "      <th>3</th>\n",
       "      <td>140000</td>\n",
       "      <td>9550</td>\n",
       "      <td>961</td>\n",
       "      <td>756</td>\n",
       "      <td>756</td>\n",
       "      <td>1</td>\n",
       "      <td>Lvl</td>\n",
       "      <td>Crawfor</td>\n",
       "      <td>1Fam</td>\n",
       "      <td>7</td>\n",
       "      <td>5</td>\n",
       "      <td>1915</td>\n",
       "      <td>Gd</td>\n",
       "      <td>(835-1335)</td>\n",
       "      <td>(501-1001)</td>\n",
       "      <td>(124901-214901)</td>\n",
       "    </tr>\n",
       "    <tr>\n",
       "      <th>4</th>\n",
       "      <td>250000</td>\n",
       "      <td>14260</td>\n",
       "      <td>1145</td>\n",
       "      <td>1053</td>\n",
       "      <td>1145</td>\n",
       "      <td>2</td>\n",
       "      <td>Lvl</td>\n",
       "      <td>NoRidge</td>\n",
       "      <td>1Fam</td>\n",
       "      <td>8</td>\n",
       "      <td>5</td>\n",
       "      <td>2000</td>\n",
       "      <td>Gd</td>\n",
       "      <td>(835-1335)</td>\n",
       "      <td>(1002-1502)</td>\n",
       "      <td>(214902-304902)</td>\n",
       "    </tr>\n",
       "    <tr>\n",
       "      <th>...</th>\n",
       "      <td>...</td>\n",
       "      <td>...</td>\n",
       "      <td>...</td>\n",
       "      <td>...</td>\n",
       "      <td>...</td>\n",
       "      <td>...</td>\n",
       "      <td>...</td>\n",
       "      <td>...</td>\n",
       "      <td>...</td>\n",
       "      <td>...</td>\n",
       "      <td>...</td>\n",
       "      <td>...</td>\n",
       "      <td>...</td>\n",
       "      <td>...</td>\n",
       "      <td>...</td>\n",
       "      <td>...</td>\n",
       "    </tr>\n",
       "    <tr>\n",
       "      <th>1455</th>\n",
       "      <td>175000</td>\n",
       "      <td>7917</td>\n",
       "      <td>953</td>\n",
       "      <td>694</td>\n",
       "      <td>953</td>\n",
       "      <td>2</td>\n",
       "      <td>Lvl</td>\n",
       "      <td>Gilbert</td>\n",
       "      <td>1Fam</td>\n",
       "      <td>6</td>\n",
       "      <td>5</td>\n",
       "      <td>1999</td>\n",
       "      <td>TA</td>\n",
       "      <td>(835-1335)</td>\n",
       "      <td>(501-1001)</td>\n",
       "      <td>(124901-214901)</td>\n",
       "    </tr>\n",
       "    <tr>\n",
       "      <th>1456</th>\n",
       "      <td>210000</td>\n",
       "      <td>13175</td>\n",
       "      <td>2073</td>\n",
       "      <td>0</td>\n",
       "      <td>1542</td>\n",
       "      <td>2</td>\n",
       "      <td>Lvl</td>\n",
       "      <td>NWAmes</td>\n",
       "      <td>1Fam</td>\n",
       "      <td>6</td>\n",
       "      <td>6</td>\n",
       "      <td>1978</td>\n",
       "      <td>TA</td>\n",
       "      <td>(1837-2337)</td>\n",
       "      <td>(1503-2003)</td>\n",
       "      <td>(124901-214901)</td>\n",
       "    </tr>\n",
       "    <tr>\n",
       "      <th>1457</th>\n",
       "      <td>266500</td>\n",
       "      <td>9042</td>\n",
       "      <td>1188</td>\n",
       "      <td>1152</td>\n",
       "      <td>1152</td>\n",
       "      <td>2</td>\n",
       "      <td>Lvl</td>\n",
       "      <td>Crawfor</td>\n",
       "      <td>1Fam</td>\n",
       "      <td>7</td>\n",
       "      <td>9</td>\n",
       "      <td>1941</td>\n",
       "      <td>Gd</td>\n",
       "      <td>(835-1335)</td>\n",
       "      <td>(1002-1502)</td>\n",
       "      <td>(214902-304902)</td>\n",
       "    </tr>\n",
       "    <tr>\n",
       "      <th>1458</th>\n",
       "      <td>142125</td>\n",
       "      <td>9717</td>\n",
       "      <td>1078</td>\n",
       "      <td>0</td>\n",
       "      <td>1078</td>\n",
       "      <td>1</td>\n",
       "      <td>Lvl</td>\n",
       "      <td>NAmes</td>\n",
       "      <td>1Fam</td>\n",
       "      <td>5</td>\n",
       "      <td>6</td>\n",
       "      <td>1950</td>\n",
       "      <td>Gd</td>\n",
       "      <td>(835-1335)</td>\n",
       "      <td>(1002-1502)</td>\n",
       "      <td>(124901-214901)</td>\n",
       "    </tr>\n",
       "    <tr>\n",
       "      <th>1459</th>\n",
       "      <td>147500</td>\n",
       "      <td>9937</td>\n",
       "      <td>1256</td>\n",
       "      <td>0</td>\n",
       "      <td>1256</td>\n",
       "      <td>1</td>\n",
       "      <td>Lvl</td>\n",
       "      <td>Edwards</td>\n",
       "      <td>1Fam</td>\n",
       "      <td>5</td>\n",
       "      <td>6</td>\n",
       "      <td>1965</td>\n",
       "      <td>TA</td>\n",
       "      <td>(835-1335)</td>\n",
       "      <td>(1002-1502)</td>\n",
       "      <td>(124901-214901)</td>\n",
       "    </tr>\n",
       "  </tbody>\n",
       "</table>\n",
       "<p>1460 rows × 16 columns</p>\n",
       "</div>"
      ],
      "text/plain": [
       "      SalePrice  LotArea  1stFlrSF  2ndFlrSF  TotalBsmtSF  FullBath  \\\n",
       "0        208500     8450       856       854          856         2   \n",
       "1        181500     9600      1262         0         1262         2   \n",
       "2        223500    11250       920       866          920         2   \n",
       "3        140000     9550       961       756          756         1   \n",
       "4        250000    14260      1145      1053         1145         2   \n",
       "...         ...      ...       ...       ...          ...       ...   \n",
       "1455     175000     7917       953       694          953         2   \n",
       "1456     210000    13175      2073         0         1542         2   \n",
       "1457     266500     9042      1188      1152         1152         2   \n",
       "1458     142125     9717      1078         0         1078         1   \n",
       "1459     147500     9937      1256         0         1256         1   \n",
       "\n",
       "     LandContour Neighborhood BldgType  OverallQual  OverallCond  YearBuilt  \\\n",
       "0            Lvl      CollgCr     1Fam            7            5       2003   \n",
       "1            Lvl      Veenker     1Fam            6            8       1976   \n",
       "2            Lvl      CollgCr     1Fam            7            5       2001   \n",
       "3            Lvl      Crawfor     1Fam            7            5       1915   \n",
       "4            Lvl      NoRidge     1Fam            8            5       2000   \n",
       "...          ...          ...      ...          ...          ...        ...   \n",
       "1455         Lvl      Gilbert     1Fam            6            5       1999   \n",
       "1456         Lvl       NWAmes     1Fam            6            6       1978   \n",
       "1457         Lvl      Crawfor     1Fam            7            9       1941   \n",
       "1458         Lvl        NAmes     1Fam            5            6       1950   \n",
       "1459         Lvl      Edwards     1Fam            5            6       1965   \n",
       "\n",
       "     KitchenQual First_Floor_Sq_FT_Range Basement_Sq_FT_Range  \\\n",
       "0             Gd              (835-1335)           (501-1001)   \n",
       "1             TA              (835-1335)          (1002-1502)   \n",
       "2             Gd              (835-1335)           (501-1001)   \n",
       "3             Gd              (835-1335)           (501-1001)   \n",
       "4             Gd              (835-1335)          (1002-1502)   \n",
       "...          ...                     ...                  ...   \n",
       "1455          TA              (835-1335)           (501-1001)   \n",
       "1456          TA             (1837-2337)          (1503-2003)   \n",
       "1457          Gd              (835-1335)          (1002-1502)   \n",
       "1458          Gd              (835-1335)          (1002-1502)   \n",
       "1459          TA              (835-1335)          (1002-1502)   \n",
       "\n",
       "     Sales_Price_Range  \n",
       "0      (124901-214901)  \n",
       "1      (124901-214901)  \n",
       "2      (214902-304902)  \n",
       "3      (124901-214901)  \n",
       "4      (214902-304902)  \n",
       "...                ...  \n",
       "1455   (124901-214901)  \n",
       "1456   (124901-214901)  \n",
       "1457   (214902-304902)  \n",
       "1458   (124901-214901)  \n",
       "1459   (124901-214901)  \n",
       "\n",
       "[1460 rows x 16 columns]"
      ]
     },
     "execution_count": 300,
     "metadata": {},
     "output_type": "execute_result"
    }
   ],
   "source": [
    "# since there are 1453 rows with null values for the poolQC I will drop the entire column from the dataset \n",
    "df3.shape\n",
    "\n",
    "df3.drop(['PoolQC'], axis = 1)"
   ]
  },
  {
   "cell_type": "markdown",
   "id": "82512fc1",
   "metadata": {},
   "source": [
    "Since there are no null values for any of these rows, next I will remove outliers for the SalePrice variable"
   ]
  },
  {
   "cell_type": "code",
   "execution_count": 302,
   "id": "798c8009",
   "metadata": {},
   "outputs": [],
   "source": [
    "percentile25 = strong_corr_variables['SalePrice'].quantile(0.25)\n",
    "percentile75 = strong_corr_variables['SalePrice'].quantile(0.75)\n",
    "iqr = percentile75 - percentile25"
   ]
  },
  {
   "cell_type": "code",
   "execution_count": 303,
   "id": "aadf45c9",
   "metadata": {},
   "outputs": [],
   "source": [
    "upper_limit = percentile75 + 1.5 * iqr\n",
    "lower_limit = percentile25 - 1.5 * iqr"
   ]
  },
  {
   "cell_type": "code",
   "execution_count": 304,
   "id": "f25e2ff5",
   "metadata": {},
   "outputs": [
    {
     "data": {
      "text/html": [
       "<div>\n",
       "<style scoped>\n",
       "    .dataframe tbody tr th:only-of-type {\n",
       "        vertical-align: middle;\n",
       "    }\n",
       "\n",
       "    .dataframe tbody tr th {\n",
       "        vertical-align: top;\n",
       "    }\n",
       "\n",
       "    .dataframe thead th {\n",
       "        text-align: right;\n",
       "    }\n",
       "</style>\n",
       "<table border=\"1\" class=\"dataframe\">\n",
       "  <thead>\n",
       "    <tr style=\"text-align: right;\">\n",
       "      <th></th>\n",
       "      <th>SalePrice</th>\n",
       "      <th>OverallQual</th>\n",
       "      <th>1stFlrSF</th>\n",
       "      <th>TotalBsmtSF</th>\n",
       "    </tr>\n",
       "  </thead>\n",
       "  <tbody>\n",
       "    <tr>\n",
       "      <th>11</th>\n",
       "      <td>345000</td>\n",
       "      <td>9</td>\n",
       "      <td>1182</td>\n",
       "      <td>1175</td>\n",
       "    </tr>\n",
       "    <tr>\n",
       "      <th>53</th>\n",
       "      <td>385000</td>\n",
       "      <td>9</td>\n",
       "      <td>1842</td>\n",
       "      <td>1842</td>\n",
       "    </tr>\n",
       "    <tr>\n",
       "      <th>58</th>\n",
       "      <td>438780</td>\n",
       "      <td>10</td>\n",
       "      <td>1426</td>\n",
       "      <td>1410</td>\n",
       "    </tr>\n",
       "    <tr>\n",
       "      <th>112</th>\n",
       "      <td>383970</td>\n",
       "      <td>7</td>\n",
       "      <td>1282</td>\n",
       "      <td>1264</td>\n",
       "    </tr>\n",
       "    <tr>\n",
       "      <th>151</th>\n",
       "      <td>372402</td>\n",
       "      <td>8</td>\n",
       "      <td>1710</td>\n",
       "      <td>1710</td>\n",
       "    </tr>\n",
       "    <tr>\n",
       "      <th>...</th>\n",
       "      <td>...</td>\n",
       "      <td>...</td>\n",
       "      <td>...</td>\n",
       "      <td>...</td>\n",
       "    </tr>\n",
       "    <tr>\n",
       "      <th>1268</th>\n",
       "      <td>381000</td>\n",
       "      <td>8</td>\n",
       "      <td>1968</td>\n",
       "      <td>728</td>\n",
       "    </tr>\n",
       "    <tr>\n",
       "      <th>1353</th>\n",
       "      <td>410000</td>\n",
       "      <td>8</td>\n",
       "      <td>2053</td>\n",
       "      <td>2033</td>\n",
       "    </tr>\n",
       "    <tr>\n",
       "      <th>1373</th>\n",
       "      <td>466500</td>\n",
       "      <td>10</td>\n",
       "      <td>2633</td>\n",
       "      <td>2633</td>\n",
       "    </tr>\n",
       "    <tr>\n",
       "      <th>1388</th>\n",
       "      <td>377500</td>\n",
       "      <td>9</td>\n",
       "      <td>1746</td>\n",
       "      <td>1746</td>\n",
       "    </tr>\n",
       "    <tr>\n",
       "      <th>1437</th>\n",
       "      <td>394617</td>\n",
       "      <td>8</td>\n",
       "      <td>1932</td>\n",
       "      <td>1932</td>\n",
       "    </tr>\n",
       "  </tbody>\n",
       "</table>\n",
       "<p>61 rows × 4 columns</p>\n",
       "</div>"
      ],
      "text/plain": [
       "      SalePrice  OverallQual  1stFlrSF  TotalBsmtSF\n",
       "11       345000            9      1182         1175\n",
       "53       385000            9      1842         1842\n",
       "58       438780           10      1426         1410\n",
       "112      383970            7      1282         1264\n",
       "151      372402            8      1710         1710\n",
       "...         ...          ...       ...          ...\n",
       "1268     381000            8      1968          728\n",
       "1353     410000            8      2053         2033\n",
       "1373     466500           10      2633         2633\n",
       "1388     377500            9      1746         1746\n",
       "1437     394617            8      1932         1932\n",
       "\n",
       "[61 rows x 4 columns]"
      ]
     },
     "execution_count": 304,
     "metadata": {},
     "output_type": "execute_result"
    },
    {
     "data": {
      "text/html": [
       "<div>\n",
       "<style scoped>\n",
       "    .dataframe tbody tr th:only-of-type {\n",
       "        vertical-align: middle;\n",
       "    }\n",
       "\n",
       "    .dataframe tbody tr th {\n",
       "        vertical-align: top;\n",
       "    }\n",
       "\n",
       "    .dataframe thead th {\n",
       "        text-align: right;\n",
       "    }\n",
       "</style>\n",
       "<table border=\"1\" class=\"dataframe\">\n",
       "  <thead>\n",
       "    <tr style=\"text-align: right;\">\n",
       "      <th></th>\n",
       "      <th>SalePrice</th>\n",
       "      <th>OverallQual</th>\n",
       "      <th>1stFlrSF</th>\n",
       "      <th>TotalBsmtSF</th>\n",
       "    </tr>\n",
       "  </thead>\n",
       "  <tbody>\n",
       "  </tbody>\n",
       "</table>\n",
       "</div>"
      ],
      "text/plain": [
       "Empty DataFrame\n",
       "Columns: [SalePrice, OverallQual, 1stFlrSF, TotalBsmtSF]\n",
       "Index: []"
      ]
     },
     "execution_count": 304,
     "metadata": {},
     "output_type": "execute_result"
    }
   ],
   "source": [
    "strong_corr_variables[strong_corr_variables['SalePrice'] > upper_limit]\n",
    "strong_corr_variables[strong_corr_variables['SalePrice'] < lower_limit]"
   ]
  },
  {
   "cell_type": "code",
   "execution_count": 305,
   "id": "f03ddcdb",
   "metadata": {},
   "outputs": [
    {
     "data": {
      "text/plain": [
       "(1399, 4)"
      ]
     },
     "execution_count": 305,
     "metadata": {},
     "output_type": "execute_result"
    }
   ],
   "source": [
    "df3 = strong_corr_variables[strong_corr_variables['SalePrice']< upper_limit]\n",
    "df3.shape"
   ]
  },
  {
   "cell_type": "code",
   "execution_count": 306,
   "id": "2f2a56a2",
   "metadata": {},
   "outputs": [
    {
     "name": "stderr",
     "output_type": "stream",
     "text": [
      "C:\\Users\\anari\\Documents\\Python-Anaconda\\lib\\site-packages\\seaborn\\_decorators.py:36: FutureWarning: Pass the following variable as a keyword arg: x. From version 0.12, the only valid positional argument will be `data`, and passing other arguments without an explicit keyword will result in an error or misinterpretation.\n",
      "  warnings.warn(\n"
     ]
    },
    {
     "data": {
      "text/plain": [
       "<AxesSubplot:xlabel='SalePrice'>"
      ]
     },
     "execution_count": 306,
     "metadata": {},
     "output_type": "execute_result"
    },
    {
     "data": {
      "image/png": "[encoded data removed]",
      "text/plain": [
       "<Figure size 432x288 with 1 Axes>"
      ]
     },
     "metadata": {},
     "output_type": "display_data"
    }
   ],
   "source": [
    "sns.boxplot(strong_corr_variables['SalePrice'])"
   ]
  },
  {
   "cell_type": "code",
   "execution_count": 307,
   "id": "93b3f3c3",
   "metadata": {},
   "outputs": [
    {
     "name": "stderr",
     "output_type": "stream",
     "text": [
      "<ipython-input-307-d62e3e5ed6b6>:1: SettingWithCopyWarning: \n",
      "A value is trying to be set on a copy of a slice from a DataFrame.\n",
      "Try using .loc[row_indexer,col_indexer] = value instead\n",
      "\n",
      "See the caveats in the documentation: https://pandas.pydata.org/pandas-docs/stable/user_guide/indexing.html#returning-a-view-versus-a-copy\n",
      "  df3['SalePrice'] = np.where(\n"
     ]
    }
   ],
   "source": [
    "\n",
    "df3['SalePrice'] = np.where(\n",
    "    df3['SalePrice'] > upper_limit,\n",
    "    upper_limit,\n",
    "    np.where(\n",
    "        df3['SalePrice'] < lower_limit,\n",
    "        lower_limit,\n",
    "        df3['SalePrice']\n",
    "    )\n",
    ")"
   ]
  },
  {
   "cell_type": "code",
   "execution_count": 308,
   "id": "6c3c9b5c",
   "metadata": {},
   "outputs": [
    {
     "name": "stderr",
     "output_type": "stream",
     "text": [
      "C:\\Users\\anari\\Documents\\Python-Anaconda\\lib\\site-packages\\seaborn\\_decorators.py:36: FutureWarning: Pass the following variable as a keyword arg: x. From version 0.12, the only valid positional argument will be `data`, and passing other arguments without an explicit keyword will result in an error or misinterpretation.\n",
      "  warnings.warn(\n"
     ]
    },
    {
     "data": {
      "text/plain": [
       "<AxesSubplot:xlabel='SalePrice'>"
      ]
     },
     "execution_count": 308,
     "metadata": {},
     "output_type": "execute_result"
    },
    {
     "data": {
      "image/png": "[encoded data removed]",
      "text/plain": [
       "<Figure size 432x288 with 1 Axes>"
      ]
     },
     "metadata": {},
     "output_type": "display_data"
    }
   ],
   "source": [
    "sns.boxplot(df3['SalePrice'])"
   ]
  },
  {
   "cell_type": "code",
   "execution_count": 309,
   "id": "5f405353",
   "metadata": {},
   "outputs": [
    {
     "data": {
      "text/html": [
       "<div>\n",
       "<style scoped>\n",
       "    .dataframe tbody tr th:only-of-type {\n",
       "        vertical-align: middle;\n",
       "    }\n",
       "\n",
       "    .dataframe tbody tr th {\n",
       "        vertical-align: top;\n",
       "    }\n",
       "\n",
       "    .dataframe thead th {\n",
       "        text-align: right;\n",
       "    }\n",
       "</style>\n",
       "<table border=\"1\" class=\"dataframe\">\n",
       "  <thead>\n",
       "    <tr style=\"text-align: right;\">\n",
       "      <th></th>\n",
       "      <th>SalePrice</th>\n",
       "      <th>OverallQual</th>\n",
       "      <th>1stFlrSF</th>\n",
       "      <th>TotalBsmtSF</th>\n",
       "    </tr>\n",
       "  </thead>\n",
       "  <tbody>\n",
       "    <tr>\n",
       "      <th>count</th>\n",
       "      <td>1399.000000</td>\n",
       "      <td>1399.000000</td>\n",
       "      <td>1399.000000</td>\n",
       "      <td>1399.000000</td>\n",
       "    </tr>\n",
       "    <tr>\n",
       "      <th>mean</th>\n",
       "      <td>170237.127234</td>\n",
       "      <td>5.983560</td>\n",
       "      <td>1132.247320</td>\n",
       "      <td>1024.273767</td>\n",
       "    </tr>\n",
       "    <tr>\n",
       "      <th>std</th>\n",
       "      <td>59230.130817</td>\n",
       "      <td>1.282272</td>\n",
       "      <td>357.318243</td>\n",
       "      <td>407.031806</td>\n",
       "    </tr>\n",
       "    <tr>\n",
       "      <th>min</th>\n",
       "      <td>34900.000000</td>\n",
       "      <td>1.000000</td>\n",
       "      <td>334.000000</td>\n",
       "      <td>0.000000</td>\n",
       "    </tr>\n",
       "    <tr>\n",
       "      <th>25%</th>\n",
       "      <td>129000.000000</td>\n",
       "      <td>5.000000</td>\n",
       "      <td>870.500000</td>\n",
       "      <td>788.000000</td>\n",
       "    </tr>\n",
       "    <tr>\n",
       "      <th>50%</th>\n",
       "      <td>159500.000000</td>\n",
       "      <td>6.000000</td>\n",
       "      <td>1069.000000</td>\n",
       "      <td>973.000000</td>\n",
       "    </tr>\n",
       "    <tr>\n",
       "      <th>75%</th>\n",
       "      <td>203500.000000</td>\n",
       "      <td>7.000000</td>\n",
       "      <td>1346.500000</td>\n",
       "      <td>1251.500000</td>\n",
       "    </tr>\n",
       "    <tr>\n",
       "      <th>max</th>\n",
       "      <td>340000.000000</td>\n",
       "      <td>10.000000</td>\n",
       "      <td>4692.000000</td>\n",
       "      <td>6110.000000</td>\n",
       "    </tr>\n",
       "  </tbody>\n",
       "</table>\n",
       "</div>"
      ],
      "text/plain": [
       "           SalePrice  OverallQual     1stFlrSF  TotalBsmtSF\n",
       "count    1399.000000  1399.000000  1399.000000  1399.000000\n",
       "mean   170237.127234     5.983560  1132.247320  1024.273767\n",
       "std     59230.130817     1.282272   357.318243   407.031806\n",
       "min     34900.000000     1.000000   334.000000     0.000000\n",
       "25%    129000.000000     5.000000   870.500000   788.000000\n",
       "50%    159500.000000     6.000000  1069.000000   973.000000\n",
       "75%    203500.000000     7.000000  1346.500000  1251.500000\n",
       "max    340000.000000    10.000000  4692.000000  6110.000000"
      ]
     },
     "execution_count": 309,
     "metadata": {},
     "output_type": "execute_result"
    }
   ],
   "source": [
    "df3.describe()"
   ]
  },
  {
   "cell_type": "markdown",
   "id": "9d004959",
   "metadata": {},
   "source": [
    "Next I will scale the dependent variable in my dataset"
   ]
  },
  {
   "cell_type": "code",
   "execution_count": 310,
   "id": "45494c11",
   "metadata": {},
   "outputs": [],
   "source": [
    "# will separate Sale Price from other variables \n",
    "x= df3.drop(['SalePrice'],axis=1) \n",
    "y= df3['SalePrice']"
   ]
  },
  {
   "cell_type": "code",
   "execution_count": 311,
   "id": "33ecf7d2",
   "metadata": {},
   "outputs": [],
   "source": [
    "from sklearn.preprocessing import MinMaxScaler\n",
    "\n",
    "mc = MinMaxScaler()\n",
    "\n",
    "scaled_x= mc.fit_transform(x)"
   ]
  },
  {
   "cell_type": "code",
   "execution_count": 317,
   "id": "29b758d7",
   "metadata": {},
   "outputs": [
    {
     "data": {
      "text/plain": [
       "array([[0.66666667, 0.11977972, 0.1400982 ],\n",
       "       [0.55555556, 0.21294172, 0.20654664],\n",
       "       [0.66666667, 0.13446535, 0.15057283],\n",
       "       ...,\n",
       "       [0.66666667, 0.19596145, 0.18854337],\n",
       "       [0.44444444, 0.17072051, 0.17643208],\n",
       "       [0.44444444, 0.21156494, 0.20556465]])"
      ]
     },
     "execution_count": 317,
     "metadata": {},
     "output_type": "execute_result"
    }
   ],
   "source": [
    "scaled_x"
   ]
  },
  {
   "cell_type": "markdown",
   "id": "fb7d77fb",
   "metadata": {},
   "source": [
    "After scaling the data for the dependent variable, our training data is now ready to build a model but for he purposes of this assignment this is not a requirement. "
   ]
  }
 ],
 "metadata": {
  "kernelspec": {
   "display_name": "Python 3",
   "language": "python",
   "name": "python3"
  },
  "language_info": {
   "codemirror_mode": {
    "name": "ipython",
    "version": 3
   },
   "file_extension": ".py",
   "mimetype": "text/x-python",
   "name": "python",
   "nbconvert_exporter": "python",
   "pygments_lexer": "ipython3",
   "version": "3.8.8"
  }
 },
 "nbformat": 4,
 "nbformat_minor": 5
}
